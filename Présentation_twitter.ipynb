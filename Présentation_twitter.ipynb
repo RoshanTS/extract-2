{
  "nbformat": 4,
  "nbformat_minor": 0,
  "metadata": {
    "colab": {
      "name": "Présentation twitter.ipynb",
      "provenance": [],
      "collapsed_sections": [],
      "include_colab_link": true
    },
    "kernelspec": {
      "name": "python3",
      "display_name": "Python 3"
    }
  },
  "cells": [
    {
      "cell_type": "markdown",
      "metadata": {
        "id": "view-in-github",
        "colab_type": "text"
      },
      "source": [
        "<a href=\"https://colab.research.google.com/github/RoshanTS/extract-tweets/blob/report/Pr%C3%A9sentation_twitter.ipynb\" target=\"_parent\"><img src=\"https://colab.research.google.com/assets/colab-badge.svg\" alt=\"Open In Colab\"/></a>"
      ]
    },
    {
      "cell_type": "markdown",
      "metadata": {
        "id": "cOi4ApOWPPmB",
        "colab_type": "text"
      },
      "source": [
        "# Chiffres clés"
      ]
    },
    {
      "cell_type": "markdown",
      "metadata": {
        "id": "f2gcWpanP1jF",
        "colab_type": "text"
      },
      "source": [
        "*   330 millions d’utilisateurs actifs chaque mois (stagnation depuis 2016)\n",
        "*   140 millions d’utilisateurs monétisables (connecté chaque jour et exposé à la publicité)\n",
        "*   500 millions de twwet chaque jour (5787 par seconde)\n",
        "*   12eme site le plus consulté\n",
        "*   En 2018, 187 gouvernements/Chef d’état présent sur twitter\n",
        "*   75% entreprise B2B et 65% des entreprises B2C présentes sur twitter\n",
        "*\t  Une marque tweet en moyenne 122 fois par mois"
      ]
    },
    {
      "cell_type": "markdown",
      "metadata": {
        "id": "QNQi84LaRzmJ",
        "colab_type": "text"
      },
      "source": [
        "# Limitations"
      ]
    },
    {
      "cell_type": "markdown",
      "metadata": {
        "id": "yc_-QvfuR2zf",
        "colab_type": "text"
      },
      "source": [
        "*   3% des utilisateurs mentionnent une marque directement lorsqu’ils s’en plaignent\n",
        "*   Moitié de la durée de vie (like/retweet) d’un tweet = 24 minutes\n",
        "* \t280 caractères latins, 140 sinon"
      ]
    },
    {
      "cell_type": "markdown",
      "metadata": {
        "id": "pOnyc4E8SJ21",
        "colab_type": "text"
      },
      "source": [
        "# Intérêt"
      ]
    },
    {
      "cell_type": "markdown",
      "metadata": {
        "id": "S-_iZPzsSMX6",
        "colab_type": "text"
      },
      "source": [
        "*   280 caractères latins, 140 sinon\n",
        "*   Identifier le buzz dès qu’il émerge\n",
        "*   Analyser le sentiment autour d’un produit\n",
        "*   Effectuer du ciblage publicitaire\n",
        "*  \tPiloter un évènement (voir ce qui a fonctionner ou pas et effectuer des ajustements en conséquences)\n"
      ]
    },
    {
      "cell_type": "markdown",
      "metadata": {
        "id": "vZd4HzvOSjgr",
        "colab_type": "text"
      },
      "source": [
        "# Limitations API"
      ]
    },
    {
      "cell_type": "markdown",
      "metadata": {
        "id": "wUWblm7KSnye",
        "colab_type": "text"
      },
      "source": [
        "*   7 derniers jours accessibles (illimité avec l’API premium)\n",
        "*   Token de 15 minutes\n",
        "*   15 requetes max par token"
      ]
    },
    {
      "cell_type": "code",
      "metadata": {
        "id": "0SUsLNg5SxTV",
        "colab_type": "code",
        "colab": {}
      },
      "source": [
        ""
      ],
      "execution_count": 0,
      "outputs": []
    }
  ]
}