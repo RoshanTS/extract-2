{
  "nbformat": 4,
  "nbformat_minor": 0,
  "metadata": {
    "colab": {
      "name": "cleaning_tweets.ipynb",
      "provenance": [],
      "collapsed_sections": [],
      "toc_visible": true,
      "include_colab_link": true
    },
    "kernelspec": {
      "name": "python3",
      "display_name": "Python 3"
    }
  },
  "cells": [
    {
      "cell_type": "markdown",
      "metadata": {
        "id": "view-in-github",
        "colab_type": "text"
      },
      "source": [
        "<a href=\"https://colab.research.google.com/github/RoshanTS/pfe-estia/blob/data_cleaning/cleaning_tweets.ipynb\" target=\"_parent\"><img src=\"https://colab.research.google.com/assets/colab-badge.svg\" alt=\"Open In Colab\"/></a>"
      ]
    },
    {
      "cell_type": "markdown",
      "metadata": {
        "id": "BaV12sZOARIh",
        "colab_type": "text"
      },
      "source": [
        "#Import libraries"
      ]
    },
    {
      "cell_type": "code",
      "metadata": {
        "id": "gmB-ltKX3inq",
        "colab_type": "code",
        "outputId": "c9762cd0-31a1-4dc2-bd5e-3c6f65927728",
        "colab": {
          "base_uri": "https://localhost:8080/",
          "height": 89
        }
      },
      "source": [
        "import pandas as pd\n",
        "import nltk\n",
        "nltk.download('stopwords')\n",
        "nltk.download('wordnet')\n",
        "import string\n",
        "import re\n",
        "\n",
        "from google.colab import drive"
      ],
      "execution_count": 2,
      "outputs": [
        {
          "output_type": "stream",
          "text": [
            "[nltk_data] Downloading package stopwords to /root/nltk_data...\n",
            "[nltk_data]   Unzipping corpora/stopwords.zip.\n",
            "[nltk_data] Downloading package wordnet to /root/nltk_data...\n",
            "[nltk_data]   Unzipping corpora/wordnet.zip.\n"
          ],
          "name": "stdout"
        }
      ]
    },
    {
      "cell_type": "markdown",
      "metadata": {
        "id": "eSqlOu7IAh1e",
        "colab_type": "text"
      },
      "source": [
        "#Import data"
      ]
    },
    {
      "cell_type": "code",
      "metadata": {
        "id": "9jqX4OEyDMdb",
        "colab_type": "code",
        "outputId": "e4217de0-3f85-45b3-a331-3dca2cfc2abf",
        "colab": {
          "base_uri": "https://localhost:8080/",
          "height": 109
        }
      },
      "source": [
        "\n",
        "drive.mount('/content/gdrive/')\n",
        "\n",
        "!ls /content/gdrive/Shared\\ drives/PFE_ING3_ESTIA/data/raw_data/hongkong/"
      ],
      "execution_count": 7,
      "outputs": [
        {
          "output_type": "stream",
          "text": [
            "Drive already mounted at /content/gdrive/; to attempt to forcibly remount, call drive.mount(\"/content/gdrive/\", force_remount=True).\n",
            "df_tweets_18-10-2019__02:23:32.csv  df_tweets.csv\n",
            "df_tweets_18-10-2019__09:37:04.csv  df_tweets_en_18-10-2019__08:28:10.csv\n",
            "df_tweets_18-10-2019.csv\t    df_tweets_en_24-10-2019__13_10_24.csv\n"
          ],
          "name": "stdout"
        }
      ]
    },
    {
      "cell_type": "code",
      "metadata": {
        "id": "eRhQBCUpBh8Q",
        "colab_type": "code",
        "outputId": "f3d3e558-d404-4883-c572-0c1d72d4ef9e",
        "colab": {
          "base_uri": "https://localhost:8080/",
          "height": 791
        }
      },
      "source": [
        "data = pd.read_csv('/content/gdrive/Shared drives/PFE_ING3_ESTIA/data/raw_data/hongkong/df_tweets_en_18-10-2019__08:28:10.csv')\n",
        "data.head(10)"
      ],
      "execution_count": 8,
      "outputs": [
        {
          "output_type": "execute_result",
          "data": {
            "text/html": [
              "<div>\n",
              "<style scoped>\n",
              "    .dataframe tbody tr th:only-of-type {\n",
              "        vertical-align: middle;\n",
              "    }\n",
              "\n",
              "    .dataframe tbody tr th {\n",
              "        vertical-align: top;\n",
              "    }\n",
              "\n",
              "    .dataframe thead th {\n",
              "        text-align: right;\n",
              "    }\n",
              "</style>\n",
              "<table border=\"1\" class=\"dataframe\">\n",
              "  <thead>\n",
              "    <tr style=\"text-align: right;\">\n",
              "      <th></th>\n",
              "      <th>Unnamed: 0</th>\n",
              "      <th>user</th>\n",
              "      <th>location</th>\n",
              "      <th>tweet content</th>\n",
              "      <th>language</th>\n",
              "      <th>nb_favorite</th>\n",
              "      <th>nb_retweet</th>\n",
              "      <th>created_at</th>\n",
              "    </tr>\n",
              "  </thead>\n",
              "  <tbody>\n",
              "    <tr>\n",
              "      <th>0</th>\n",
              "      <td>0</td>\n",
              "      <td>globaltimesnews</td>\n",
              "      <td>Bejing, China</td>\n",
              "      <td>#HongKong police arrested 13 people aged betwe...</td>\n",
              "      <td>en</td>\n",
              "      <td>3</td>\n",
              "      <td>1</td>\n",
              "      <td>2019-10-18 08:25:34</td>\n",
              "    </tr>\n",
              "    <tr>\n",
              "      <th>1</th>\n",
              "      <td>1</td>\n",
              "      <td>PM_Thornton</td>\n",
              "      <td>Oxford, UK</td>\n",
              "      <td>BBC #HongKong: Hecklers dragged out in new par...</td>\n",
              "      <td>en</td>\n",
              "      <td>0</td>\n",
              "      <td>0</td>\n",
              "      <td>2019-10-18 08:25:11</td>\n",
              "    </tr>\n",
              "    <tr>\n",
              "      <th>2</th>\n",
              "      <td>2</td>\n",
              "      <td>globaltimesnews</td>\n",
              "      <td>Bejing, China</td>\n",
              "      <td>#HongKong police have issued a notice of objec...</td>\n",
              "      <td>en</td>\n",
              "      <td>2</td>\n",
              "      <td>0</td>\n",
              "      <td>2019-10-18 08:24:59</td>\n",
              "    </tr>\n",
              "    <tr>\n",
              "      <th>3</th>\n",
              "      <td>3</td>\n",
              "      <td>HongKong</td>\n",
              "      <td>Hong Kong SAR</td>\n",
              "      <td>Temporary Relocation of GMB Stand on Sai Sha R...</td>\n",
              "      <td>en</td>\n",
              "      <td>0</td>\n",
              "      <td>0</td>\n",
              "      <td>2019-10-18 08:24:27</td>\n",
              "    </tr>\n",
              "    <tr>\n",
              "      <th>4</th>\n",
              "      <td>4</td>\n",
              "      <td>HongKongFP</td>\n",
              "      <td>Hong Kong</td>\n",
              "      <td>The Yuen Long District Council candidacy of ac...</td>\n",
              "      <td>en</td>\n",
              "      <td>15</td>\n",
              "      <td>9</td>\n",
              "      <td>2019-10-18 08:24:16</td>\n",
              "    </tr>\n",
              "    <tr>\n",
              "      <th>5</th>\n",
              "      <td>5</td>\n",
              "      <td>hermosayanyan</td>\n",
              "      <td>Alberta,Canada</td>\n",
              "      <td>@SenRickScott @Olympics Deeply appreciate for ...</td>\n",
              "      <td>en</td>\n",
              "      <td>0</td>\n",
              "      <td>0</td>\n",
              "      <td>2019-10-18 08:23:49</td>\n",
              "    </tr>\n",
              "    <tr>\n",
              "      <th>6</th>\n",
              "      <td>6</td>\n",
              "      <td>likasing5</td>\n",
              "      <td>NaN</td>\n",
              "      <td>He literally got away with murder #hongkong ht...</td>\n",
              "      <td>en</td>\n",
              "      <td>0</td>\n",
              "      <td>0</td>\n",
              "      <td>2019-10-18 08:23:36</td>\n",
              "    </tr>\n",
              "    <tr>\n",
              "      <th>7</th>\n",
              "      <td>7</td>\n",
              "      <td>eha_news</td>\n",
              "      <td>NaN</td>\n",
              "      <td>📌#HongKong is preparing for a weekend of demon...</td>\n",
              "      <td>en</td>\n",
              "      <td>0</td>\n",
              "      <td>0</td>\n",
              "      <td>2019-10-18 08:23:31</td>\n",
              "    </tr>\n",
              "    <tr>\n",
              "      <th>8</th>\n",
              "      <td>8</td>\n",
              "      <td>MikaNoven</td>\n",
              "      <td>Shanghai</td>\n",
              "      <td>#HongKongProtests #HongKong #HKprotests #HongK...</td>\n",
              "      <td>en</td>\n",
              "      <td>0</td>\n",
              "      <td>0</td>\n",
              "      <td>2019-10-18 08:23:16</td>\n",
              "    </tr>\n",
              "    <tr>\n",
              "      <th>9</th>\n",
              "      <td>9</td>\n",
              "      <td>jw_hongkong</td>\n",
              "      <td>Hong Kong</td>\n",
              "      <td>I agree with Senator @tedcruz! Freedom and dem...</td>\n",
              "      <td>en</td>\n",
              "      <td>0</td>\n",
              "      <td>0</td>\n",
              "      <td>2019-10-18 08:23:02</td>\n",
              "    </tr>\n",
              "  </tbody>\n",
              "</table>\n",
              "</div>"
            ],
            "text/plain": [
              "   Unnamed: 0             user  ... nb_retweet           created_at\n",
              "0           0  globaltimesnews  ...          1  2019-10-18 08:25:34\n",
              "1           1      PM_Thornton  ...          0  2019-10-18 08:25:11\n",
              "2           2  globaltimesnews  ...          0  2019-10-18 08:24:59\n",
              "3           3         HongKong  ...          0  2019-10-18 08:24:27\n",
              "4           4       HongKongFP  ...          9  2019-10-18 08:24:16\n",
              "5           5    hermosayanyan  ...          0  2019-10-18 08:23:49\n",
              "6           6        likasing5  ...          0  2019-10-18 08:23:36\n",
              "7           7         eha_news  ...          0  2019-10-18 08:23:31\n",
              "8           8        MikaNoven  ...          0  2019-10-18 08:23:16\n",
              "9           9      jw_hongkong  ...          0  2019-10-18 08:23:02\n",
              "\n",
              "[10 rows x 8 columns]"
            ]
          },
          "metadata": {
            "tags": []
          },
          "execution_count": 8
        }
      ]
    },
    {
      "cell_type": "code",
      "metadata": {
        "id": "Sb4bwjdMs8Je",
        "colab_type": "code",
        "colab": {}
      },
      "source": [
        "df  = pd.DataFrame(data[['user', 'tweet content']])"
      ],
      "execution_count": 0,
      "outputs": []
    },
    {
      "cell_type": "markdown",
      "metadata": {
        "id": "ZbTMuYYsnwfM",
        "colab_type": "text"
      },
      "source": [
        "#Data cleaning"
      ]
    },
    {
      "cell_type": "markdown",
      "metadata": {
        "id": "6IwFBdBKn0j-",
        "colab_type": "text"
      },
      "source": [
        "### Remove punctuation"
      ]
    },
    {
      "cell_type": "code",
      "metadata": {
        "id": "J_A9kYyAtE5P",
        "colab_type": "code",
        "outputId": "190680f0-8671-4545-ae95-36e56672b5dd",
        "colab": {
          "base_uri": "https://localhost:8080/",
          "height": 477
        }
      },
      "source": [
        "def remove_punct(text):\n",
        "    text = re.sub('@[^\\s]+', 'AT_USER', text)\n",
        "    text  = \"\".join([char for char in text if char not in string.punctuation])\n",
        "    text = re.sub('[0-9]+', '', text)\n",
        "    return text\n",
        "\n",
        "df['tweet_punct'] = df['tweet content'].apply(lambda x: remove_punct(x))\n",
        "df.head(10)"
      ],
      "execution_count": 10,
      "outputs": [
        {
          "output_type": "execute_result",
          "data": {
            "text/html": [
              "<div>\n",
              "<style scoped>\n",
              "    .dataframe tbody tr th:only-of-type {\n",
              "        vertical-align: middle;\n",
              "    }\n",
              "\n",
              "    .dataframe tbody tr th {\n",
              "        vertical-align: top;\n",
              "    }\n",
              "\n",
              "    .dataframe thead th {\n",
              "        text-align: right;\n",
              "    }\n",
              "</style>\n",
              "<table border=\"1\" class=\"dataframe\">\n",
              "  <thead>\n",
              "    <tr style=\"text-align: right;\">\n",
              "      <th></th>\n",
              "      <th>user</th>\n",
              "      <th>tweet content</th>\n",
              "      <th>tweet_punct</th>\n",
              "    </tr>\n",
              "  </thead>\n",
              "  <tbody>\n",
              "    <tr>\n",
              "      <th>0</th>\n",
              "      <td>globaltimesnews</td>\n",
              "      <td>#HongKong police arrested 13 people aged betwe...</td>\n",
              "      <td>HongKong police arrested  people aged between ...</td>\n",
              "    </tr>\n",
              "    <tr>\n",
              "      <th>1</th>\n",
              "      <td>PM_Thornton</td>\n",
              "      <td>BBC #HongKong: Hecklers dragged out in new par...</td>\n",
              "      <td>BBC HongKong Hecklers dragged out in new parli...</td>\n",
              "    </tr>\n",
              "    <tr>\n",
              "      <th>2</th>\n",
              "      <td>globaltimesnews</td>\n",
              "      <td>#HongKong police have issued a notice of objec...</td>\n",
              "      <td>HongKong police have issued a notice of object...</td>\n",
              "    </tr>\n",
              "    <tr>\n",
              "      <th>3</th>\n",
              "      <td>HongKong</td>\n",
              "      <td>Temporary Relocation of GMB Stand on Sai Sha R...</td>\n",
              "      <td>Temporary Relocation of GMB Stand on Sai Sha R...</td>\n",
              "    </tr>\n",
              "    <tr>\n",
              "      <th>4</th>\n",
              "      <td>HongKongFP</td>\n",
              "      <td>The Yuen Long District Council candidacy of ac...</td>\n",
              "      <td>The Yuen Long District Council candidacy of ac...</td>\n",
              "    </tr>\n",
              "    <tr>\n",
              "      <th>5</th>\n",
              "      <td>hermosayanyan</td>\n",
              "      <td>@SenRickScott @Olympics Deeply appreciate for ...</td>\n",
              "      <td>ATUSER ATUSER Deeply appreciate for your suppo...</td>\n",
              "    </tr>\n",
              "    <tr>\n",
              "      <th>6</th>\n",
              "      <td>likasing5</td>\n",
              "      <td>He literally got away with murder #hongkong ht...</td>\n",
              "      <td>He literally got away with murder hongkong htt...</td>\n",
              "    </tr>\n",
              "    <tr>\n",
              "      <th>7</th>\n",
              "      <td>eha_news</td>\n",
              "      <td>📌#HongKong is preparing for a weekend of demon...</td>\n",
              "      <td>📌HongKong is preparing for a weekend of demons...</td>\n",
              "    </tr>\n",
              "    <tr>\n",
              "      <th>8</th>\n",
              "      <td>MikaNoven</td>\n",
              "      <td>#HongKongProtests #HongKong #HKprotests #HongK...</td>\n",
              "      <td>HongKongProtests HongKong HKprotests HongKongP...</td>\n",
              "    </tr>\n",
              "    <tr>\n",
              "      <th>9</th>\n",
              "      <td>jw_hongkong</td>\n",
              "      <td>I agree with Senator @tedcruz! Freedom and dem...</td>\n",
              "      <td>I agree with Senator ATUSER Freedom and democr...</td>\n",
              "    </tr>\n",
              "  </tbody>\n",
              "</table>\n",
              "</div>"
            ],
            "text/plain": [
              "              user  ...                                        tweet_punct\n",
              "0  globaltimesnews  ...  HongKong police arrested  people aged between ...\n",
              "1      PM_Thornton  ...  BBC HongKong Hecklers dragged out in new parli...\n",
              "2  globaltimesnews  ...  HongKong police have issued a notice of object...\n",
              "3         HongKong  ...  Temporary Relocation of GMB Stand on Sai Sha R...\n",
              "4       HongKongFP  ...  The Yuen Long District Council candidacy of ac...\n",
              "5    hermosayanyan  ...  ATUSER ATUSER Deeply appreciate for your suppo...\n",
              "6        likasing5  ...  He literally got away with murder hongkong htt...\n",
              "7         eha_news  ...  📌HongKong is preparing for a weekend of demons...\n",
              "8        MikaNoven  ...  HongKongProtests HongKong HKprotests HongKongP...\n",
              "9      jw_hongkong  ...  I agree with Senator ATUSER Freedom and democr...\n",
              "\n",
              "[10 rows x 3 columns]"
            ]
          },
          "metadata": {
            "tags": []
          },
          "execution_count": 10
        }
      ]
    },
    {
      "cell_type": "markdown",
      "metadata": {
        "id": "KZQDrUmNn7Lh",
        "colab_type": "text"
      },
      "source": [
        "### Tokenization"
      ]
    },
    {
      "cell_type": "code",
      "metadata": {
        "id": "Xq74XePOrzYc",
        "colab_type": "code",
        "outputId": "5e57f193-5df3-4ddc-cb66-6fe7ebd37b6f",
        "colab": {
          "base_uri": "https://localhost:8080/",
          "height": 546
        }
      },
      "source": [
        "def tokenization(text):\n",
        "    text = re.split('\\W+', text)\n",
        "    return text\n",
        "\n",
        "df['tweet_tokenized'] = df['tweet_punct'].apply(lambda x: tokenization(x.lower()))\n",
        "df.head(10)"
      ],
      "execution_count": 11,
      "outputs": [
        {
          "output_type": "execute_result",
          "data": {
            "text/html": [
              "<div>\n",
              "<style scoped>\n",
              "    .dataframe tbody tr th:only-of-type {\n",
              "        vertical-align: middle;\n",
              "    }\n",
              "\n",
              "    .dataframe tbody tr th {\n",
              "        vertical-align: top;\n",
              "    }\n",
              "\n",
              "    .dataframe thead th {\n",
              "        text-align: right;\n",
              "    }\n",
              "</style>\n",
              "<table border=\"1\" class=\"dataframe\">\n",
              "  <thead>\n",
              "    <tr style=\"text-align: right;\">\n",
              "      <th></th>\n",
              "      <th>user</th>\n",
              "      <th>tweet content</th>\n",
              "      <th>tweet_punct</th>\n",
              "      <th>tweet_tokenized</th>\n",
              "    </tr>\n",
              "  </thead>\n",
              "  <tbody>\n",
              "    <tr>\n",
              "      <th>0</th>\n",
              "      <td>globaltimesnews</td>\n",
              "      <td>#HongKong police arrested 13 people aged betwe...</td>\n",
              "      <td>HongKong police arrested  people aged between ...</td>\n",
              "      <td>[hongkong, police, arrested, people, aged, bet...</td>\n",
              "    </tr>\n",
              "    <tr>\n",
              "      <th>1</th>\n",
              "      <td>PM_Thornton</td>\n",
              "      <td>BBC #HongKong: Hecklers dragged out in new par...</td>\n",
              "      <td>BBC HongKong Hecklers dragged out in new parli...</td>\n",
              "      <td>[bbc, hongkong, hecklers, dragged, out, in, ne...</td>\n",
              "    </tr>\n",
              "    <tr>\n",
              "      <th>2</th>\n",
              "      <td>globaltimesnews</td>\n",
              "      <td>#HongKong police have issued a notice of objec...</td>\n",
              "      <td>HongKong police have issued a notice of object...</td>\n",
              "      <td>[hongkong, police, have, issued, a, notice, of...</td>\n",
              "    </tr>\n",
              "    <tr>\n",
              "      <th>3</th>\n",
              "      <td>HongKong</td>\n",
              "      <td>Temporary Relocation of GMB Stand on Sai Sha R...</td>\n",
              "      <td>Temporary Relocation of GMB Stand on Sai Sha R...</td>\n",
              "      <td>[temporary, relocation, of, gmb, stand, on, sa...</td>\n",
              "    </tr>\n",
              "    <tr>\n",
              "      <th>4</th>\n",
              "      <td>HongKongFP</td>\n",
              "      <td>The Yuen Long District Council candidacy of ac...</td>\n",
              "      <td>The Yuen Long District Council candidacy of ac...</td>\n",
              "      <td>[the, yuen, long, district, council, candidacy...</td>\n",
              "    </tr>\n",
              "    <tr>\n",
              "      <th>5</th>\n",
              "      <td>hermosayanyan</td>\n",
              "      <td>@SenRickScott @Olympics Deeply appreciate for ...</td>\n",
              "      <td>ATUSER ATUSER Deeply appreciate for your suppo...</td>\n",
              "      <td>[atuser, atuser, deeply, appreciate, for, your...</td>\n",
              "    </tr>\n",
              "    <tr>\n",
              "      <th>6</th>\n",
              "      <td>likasing5</td>\n",
              "      <td>He literally got away with murder #hongkong ht...</td>\n",
              "      <td>He literally got away with murder hongkong htt...</td>\n",
              "      <td>[he, literally, got, away, with, murder, hongk...</td>\n",
              "    </tr>\n",
              "    <tr>\n",
              "      <th>7</th>\n",
              "      <td>eha_news</td>\n",
              "      <td>📌#HongKong is preparing for a weekend of demon...</td>\n",
              "      <td>📌HongKong is preparing for a weekend of demons...</td>\n",
              "      <td>[, hongkong, is, preparing, for, a, weekend, o...</td>\n",
              "    </tr>\n",
              "    <tr>\n",
              "      <th>8</th>\n",
              "      <td>MikaNoven</td>\n",
              "      <td>#HongKongProtests #HongKong #HKprotests #HongK...</td>\n",
              "      <td>HongKongProtests HongKong HKprotests HongKongP...</td>\n",
              "      <td>[hongkongprotests, hongkong, hkprotests, hongk...</td>\n",
              "    </tr>\n",
              "    <tr>\n",
              "      <th>9</th>\n",
              "      <td>jw_hongkong</td>\n",
              "      <td>I agree with Senator @tedcruz! Freedom and dem...</td>\n",
              "      <td>I agree with Senator ATUSER Freedom and democr...</td>\n",
              "      <td>[i, agree, with, senator, atuser, freedom, and...</td>\n",
              "    </tr>\n",
              "  </tbody>\n",
              "</table>\n",
              "</div>"
            ],
            "text/plain": [
              "              user  ...                                    tweet_tokenized\n",
              "0  globaltimesnews  ...  [hongkong, police, arrested, people, aged, bet...\n",
              "1      PM_Thornton  ...  [bbc, hongkong, hecklers, dragged, out, in, ne...\n",
              "2  globaltimesnews  ...  [hongkong, police, have, issued, a, notice, of...\n",
              "3         HongKong  ...  [temporary, relocation, of, gmb, stand, on, sa...\n",
              "4       HongKongFP  ...  [the, yuen, long, district, council, candidacy...\n",
              "5    hermosayanyan  ...  [atuser, atuser, deeply, appreciate, for, your...\n",
              "6        likasing5  ...  [he, literally, got, away, with, murder, hongk...\n",
              "7         eha_news  ...  [, hongkong, is, preparing, for, a, weekend, o...\n",
              "8        MikaNoven  ...  [hongkongprotests, hongkong, hkprotests, hongk...\n",
              "9      jw_hongkong  ...  [i, agree, with, senator, atuser, freedom, and...\n",
              "\n",
              "[10 rows x 4 columns]"
            ]
          },
          "metadata": {
            "tags": []
          },
          "execution_count": 11
        }
      ]
    },
    {
      "cell_type": "markdown",
      "metadata": {
        "id": "xtptwE2mn_X6",
        "colab_type": "text"
      },
      "source": [
        "### Remove stopwords"
      ]
    },
    {
      "cell_type": "code",
      "metadata": {
        "id": "d0gGfV3c1TgL",
        "colab_type": "code",
        "colab": {}
      },
      "source": [
        "stopword = nltk.corpus.stopwords.words('english')\n",
        "stopword.extend(['atuser'])"
      ],
      "execution_count": 0,
      "outputs": []
    },
    {
      "cell_type": "code",
      "metadata": {
        "id": "Rr9ThvkT3BcX",
        "colab_type": "code",
        "outputId": "b5536866-cae2-43f6-eceb-d06f54991154",
        "colab": {
          "base_uri": "https://localhost:8080/",
          "height": 375
        }
      },
      "source": [
        "def remove_stopwords(text):\n",
        "    text = [word for word in text if word not in stopword]\n",
        "    return text\n",
        "    \n",
        "df['tweet_nonstop'] = df['tweet_tokenized'].apply(lambda x: remove_stopwords(x))\n",
        "df.head()"
      ],
      "execution_count": 13,
      "outputs": [
        {
          "output_type": "execute_result",
          "data": {
            "text/html": [
              "<div>\n",
              "<style scoped>\n",
              "    .dataframe tbody tr th:only-of-type {\n",
              "        vertical-align: middle;\n",
              "    }\n",
              "\n",
              "    .dataframe tbody tr th {\n",
              "        vertical-align: top;\n",
              "    }\n",
              "\n",
              "    .dataframe thead th {\n",
              "        text-align: right;\n",
              "    }\n",
              "</style>\n",
              "<table border=\"1\" class=\"dataframe\">\n",
              "  <thead>\n",
              "    <tr style=\"text-align: right;\">\n",
              "      <th></th>\n",
              "      <th>user</th>\n",
              "      <th>tweet content</th>\n",
              "      <th>tweet_punct</th>\n",
              "      <th>tweet_tokenized</th>\n",
              "      <th>tweet_nonstop</th>\n",
              "    </tr>\n",
              "  </thead>\n",
              "  <tbody>\n",
              "    <tr>\n",
              "      <th>0</th>\n",
              "      <td>globaltimesnews</td>\n",
              "      <td>#HongKong police arrested 13 people aged betwe...</td>\n",
              "      <td>HongKong police arrested  people aged between ...</td>\n",
              "      <td>[hongkong, police, arrested, people, aged, bet...</td>\n",
              "      <td>[hongkong, police, arrested, people, aged, mon...</td>\n",
              "    </tr>\n",
              "    <tr>\n",
              "      <th>1</th>\n",
              "      <td>PM_Thornton</td>\n",
              "      <td>BBC #HongKong: Hecklers dragged out in new par...</td>\n",
              "      <td>BBC HongKong Hecklers dragged out in new parli...</td>\n",
              "      <td>[bbc, hongkong, hecklers, dragged, out, in, ne...</td>\n",
              "      <td>[bbc, hongkong, hecklers, dragged, new, parlia...</td>\n",
              "    </tr>\n",
              "    <tr>\n",
              "      <th>2</th>\n",
              "      <td>globaltimesnews</td>\n",
              "      <td>#HongKong police have issued a notice of objec...</td>\n",
              "      <td>HongKong police have issued a notice of object...</td>\n",
              "      <td>[hongkong, police, have, issued, a, notice, of...</td>\n",
              "      <td>[hongkong, police, issued, notice, objection, ...</td>\n",
              "    </tr>\n",
              "    <tr>\n",
              "      <th>3</th>\n",
              "      <td>HongKong</td>\n",
              "      <td>Temporary Relocation of GMB Stand on Sai Sha R...</td>\n",
              "      <td>Temporary Relocation of GMB Stand on Sai Sha R...</td>\n",
              "      <td>[temporary, relocation, of, gmb, stand, on, sa...</td>\n",
              "      <td>[temporary, relocation, gmb, stand, sai, sha, ...</td>\n",
              "    </tr>\n",
              "    <tr>\n",
              "      <th>4</th>\n",
              "      <td>HongKongFP</td>\n",
              "      <td>The Yuen Long District Council candidacy of ac...</td>\n",
              "      <td>The Yuen Long District Council candidacy of ac...</td>\n",
              "      <td>[the, yuen, long, district, council, candidacy...</td>\n",
              "      <td>[yuen, long, district, council, candidacy, act...</td>\n",
              "    </tr>\n",
              "  </tbody>\n",
              "</table>\n",
              "</div>"
            ],
            "text/plain": [
              "              user  ...                                      tweet_nonstop\n",
              "0  globaltimesnews  ...  [hongkong, police, arrested, people, aged, mon...\n",
              "1      PM_Thornton  ...  [bbc, hongkong, hecklers, dragged, new, parlia...\n",
              "2  globaltimesnews  ...  [hongkong, police, issued, notice, objection, ...\n",
              "3         HongKong  ...  [temporary, relocation, gmb, stand, sai, sha, ...\n",
              "4       HongKongFP  ...  [yuen, long, district, council, candidacy, act...\n",
              "\n",
              "[5 rows x 5 columns]"
            ]
          },
          "metadata": {
            "tags": []
          },
          "execution_count": 13
        }
      ]
    },
    {
      "cell_type": "markdown",
      "metadata": {
        "id": "NrtAvUUcoGw2",
        "colab_type": "text"
      },
      "source": [
        "### Stemming"
      ]
    },
    {
      "cell_type": "code",
      "metadata": {
        "id": "Ar94xahe3xVj",
        "colab_type": "code",
        "outputId": "d2bb151e-87a2-4363-fab6-0dadbc7beb1e",
        "colab": {
          "base_uri": "https://localhost:8080/",
          "height": 445
        }
      },
      "source": [
        "ps = nltk.PorterStemmer()\n",
        "\n",
        "def stemming(text):\n",
        "    text = [ps.stem(word) for word in text]\n",
        "    return text\n",
        "\n",
        "df['tweet_stemmed'] = df['tweet_nonstop'].apply(lambda x: stemming(x))\n",
        "df.head()"
      ],
      "execution_count": 14,
      "outputs": [
        {
          "output_type": "execute_result",
          "data": {
            "text/html": [
              "<div>\n",
              "<style scoped>\n",
              "    .dataframe tbody tr th:only-of-type {\n",
              "        vertical-align: middle;\n",
              "    }\n",
              "\n",
              "    .dataframe tbody tr th {\n",
              "        vertical-align: top;\n",
              "    }\n",
              "\n",
              "    .dataframe thead th {\n",
              "        text-align: right;\n",
              "    }\n",
              "</style>\n",
              "<table border=\"1\" class=\"dataframe\">\n",
              "  <thead>\n",
              "    <tr style=\"text-align: right;\">\n",
              "      <th></th>\n",
              "      <th>user</th>\n",
              "      <th>tweet content</th>\n",
              "      <th>tweet_punct</th>\n",
              "      <th>tweet_tokenized</th>\n",
              "      <th>tweet_nonstop</th>\n",
              "      <th>tweet_stemmed</th>\n",
              "    </tr>\n",
              "  </thead>\n",
              "  <tbody>\n",
              "    <tr>\n",
              "      <th>0</th>\n",
              "      <td>globaltimesnews</td>\n",
              "      <td>#HongKong police arrested 13 people aged betwe...</td>\n",
              "      <td>HongKong police arrested  people aged between ...</td>\n",
              "      <td>[hongkong, police, arrested, people, aged, bet...</td>\n",
              "      <td>[hongkong, police, arrested, people, aged, mon...</td>\n",
              "      <td>[hongkong, polic, arrest, peopl, age, monday, ...</td>\n",
              "    </tr>\n",
              "    <tr>\n",
              "      <th>1</th>\n",
              "      <td>PM_Thornton</td>\n",
              "      <td>BBC #HongKong: Hecklers dragged out in new par...</td>\n",
              "      <td>BBC HongKong Hecklers dragged out in new parli...</td>\n",
              "      <td>[bbc, hongkong, hecklers, dragged, out, in, ne...</td>\n",
              "      <td>[bbc, hongkong, hecklers, dragged, new, parlia...</td>\n",
              "      <td>[bbc, hongkong, heckler, drag, new, parliament...</td>\n",
              "    </tr>\n",
              "    <tr>\n",
              "      <th>2</th>\n",
              "      <td>globaltimesnews</td>\n",
              "      <td>#HongKong police have issued a notice of objec...</td>\n",
              "      <td>HongKong police have issued a notice of object...</td>\n",
              "      <td>[hongkong, police, have, issued, a, notice, of...</td>\n",
              "      <td>[hongkong, police, issued, notice, objection, ...</td>\n",
              "      <td>[hongkong, polic, issu, notic, object, protest...</td>\n",
              "    </tr>\n",
              "    <tr>\n",
              "      <th>3</th>\n",
              "      <td>HongKong</td>\n",
              "      <td>Temporary Relocation of GMB Stand on Sai Sha R...</td>\n",
              "      <td>Temporary Relocation of GMB Stand on Sai Sha R...</td>\n",
              "      <td>[temporary, relocation, of, gmb, stand, on, sa...</td>\n",
              "      <td>[temporary, relocation, gmb, stand, sai, sha, ...</td>\n",
              "      <td>[temporari, reloc, gmb, stand, sai, sha, road,...</td>\n",
              "    </tr>\n",
              "    <tr>\n",
              "      <th>4</th>\n",
              "      <td>HongKongFP</td>\n",
              "      <td>The Yuen Long District Council candidacy of ac...</td>\n",
              "      <td>The Yuen Long District Council candidacy of ac...</td>\n",
              "      <td>[the, yuen, long, district, council, candidacy...</td>\n",
              "      <td>[yuen, long, district, council, candidacy, act...</td>\n",
              "      <td>[yuen, long, district, council, candidaci, act...</td>\n",
              "    </tr>\n",
              "  </tbody>\n",
              "</table>\n",
              "</div>"
            ],
            "text/plain": [
              "              user  ...                                      tweet_stemmed\n",
              "0  globaltimesnews  ...  [hongkong, polic, arrest, peopl, age, monday, ...\n",
              "1      PM_Thornton  ...  [bbc, hongkong, heckler, drag, new, parliament...\n",
              "2  globaltimesnews  ...  [hongkong, polic, issu, notic, object, protest...\n",
              "3         HongKong  ...  [temporari, reloc, gmb, stand, sai, sha, road,...\n",
              "4       HongKongFP  ...  [yuen, long, district, council, candidaci, act...\n",
              "\n",
              "[5 rows x 6 columns]"
            ]
          },
          "metadata": {
            "tags": []
          },
          "execution_count": 14
        }
      ]
    },
    {
      "cell_type": "markdown",
      "metadata": {
        "id": "M2ZXY4sBoJfc",
        "colab_type": "text"
      },
      "source": [
        "Lemmatization"
      ]
    },
    {
      "cell_type": "code",
      "metadata": {
        "id": "h_8sEi4U_AA3",
        "colab_type": "code",
        "outputId": "bf939aef-1a27-4a07-f70a-f0dc4db6068d",
        "colab": {
          "base_uri": "https://localhost:8080/",
          "height": 603
        }
      },
      "source": [
        "wn = nltk.WordNetLemmatizer()\n",
        "\n",
        "def lemmatizer(text):\n",
        "    text = [wn.lemmatize(word) for word in text]\n",
        "    return text\n",
        "\n",
        "df['tweet_lemmatized'] = df['tweet_nonstop'].apply(lambda x: lemmatizer(x))\n",
        "df.head()"
      ],
      "execution_count": 15,
      "outputs": [
        {
          "output_type": "execute_result",
          "data": {
            "text/html": [
              "<div>\n",
              "<style scoped>\n",
              "    .dataframe tbody tr th:only-of-type {\n",
              "        vertical-align: middle;\n",
              "    }\n",
              "\n",
              "    .dataframe tbody tr th {\n",
              "        vertical-align: top;\n",
              "    }\n",
              "\n",
              "    .dataframe thead th {\n",
              "        text-align: right;\n",
              "    }\n",
              "</style>\n",
              "<table border=\"1\" class=\"dataframe\">\n",
              "  <thead>\n",
              "    <tr style=\"text-align: right;\">\n",
              "      <th></th>\n",
              "      <th>user</th>\n",
              "      <th>tweet content</th>\n",
              "      <th>tweet_punct</th>\n",
              "      <th>tweet_tokenized</th>\n",
              "      <th>tweet_nonstop</th>\n",
              "      <th>tweet_stemmed</th>\n",
              "      <th>tweet_lemmatized</th>\n",
              "    </tr>\n",
              "  </thead>\n",
              "  <tbody>\n",
              "    <tr>\n",
              "      <th>0</th>\n",
              "      <td>globaltimesnews</td>\n",
              "      <td>#HongKong police arrested 13 people aged betwe...</td>\n",
              "      <td>HongKong police arrested  people aged between ...</td>\n",
              "      <td>[hongkong, police, arrested, people, aged, bet...</td>\n",
              "      <td>[hongkong, police, arrested, people, aged, mon...</td>\n",
              "      <td>[hongkong, polic, arrest, peopl, age, monday, ...</td>\n",
              "      <td>[hongkong, police, arrested, people, aged, mon...</td>\n",
              "    </tr>\n",
              "    <tr>\n",
              "      <th>1</th>\n",
              "      <td>PM_Thornton</td>\n",
              "      <td>BBC #HongKong: Hecklers dragged out in new par...</td>\n",
              "      <td>BBC HongKong Hecklers dragged out in new parli...</td>\n",
              "      <td>[bbc, hongkong, hecklers, dragged, out, in, ne...</td>\n",
              "      <td>[bbc, hongkong, hecklers, dragged, new, parlia...</td>\n",
              "      <td>[bbc, hongkong, heckler, drag, new, parliament...</td>\n",
              "      <td>[bbc, hongkong, heckler, dragged, new, parliam...</td>\n",
              "    </tr>\n",
              "    <tr>\n",
              "      <th>2</th>\n",
              "      <td>globaltimesnews</td>\n",
              "      <td>#HongKong police have issued a notice of objec...</td>\n",
              "      <td>HongKong police have issued a notice of object...</td>\n",
              "      <td>[hongkong, police, have, issued, a, notice, of...</td>\n",
              "      <td>[hongkong, police, issued, notice, objection, ...</td>\n",
              "      <td>[hongkong, polic, issu, notic, object, protest...</td>\n",
              "      <td>[hongkong, police, issued, notice, objection, ...</td>\n",
              "    </tr>\n",
              "    <tr>\n",
              "      <th>3</th>\n",
              "      <td>HongKong</td>\n",
              "      <td>Temporary Relocation of GMB Stand on Sai Sha R...</td>\n",
              "      <td>Temporary Relocation of GMB Stand on Sai Sha R...</td>\n",
              "      <td>[temporary, relocation, of, gmb, stand, on, sa...</td>\n",
              "      <td>[temporary, relocation, gmb, stand, sai, sha, ...</td>\n",
              "      <td>[temporari, reloc, gmb, stand, sai, sha, road,...</td>\n",
              "      <td>[temporary, relocation, gmb, stand, sai, sha, ...</td>\n",
              "    </tr>\n",
              "    <tr>\n",
              "      <th>4</th>\n",
              "      <td>HongKongFP</td>\n",
              "      <td>The Yuen Long District Council candidacy of ac...</td>\n",
              "      <td>The Yuen Long District Council candidacy of ac...</td>\n",
              "      <td>[the, yuen, long, district, council, candidacy...</td>\n",
              "      <td>[yuen, long, district, council, candidacy, act...</td>\n",
              "      <td>[yuen, long, district, council, candidaci, act...</td>\n",
              "      <td>[yuen, long, district, council, candidacy, act...</td>\n",
              "    </tr>\n",
              "  </tbody>\n",
              "</table>\n",
              "</div>"
            ],
            "text/plain": [
              "              user  ...                                   tweet_lemmatized\n",
              "0  globaltimesnews  ...  [hongkong, police, arrested, people, aged, mon...\n",
              "1      PM_Thornton  ...  [bbc, hongkong, heckler, dragged, new, parliam...\n",
              "2  globaltimesnews  ...  [hongkong, police, issued, notice, objection, ...\n",
              "3         HongKong  ...  [temporary, relocation, gmb, stand, sai, sha, ...\n",
              "4       HongKongFP  ...  [yuen, long, district, council, candidacy, act...\n",
              "\n",
              "[5 rows x 7 columns]"
            ]
          },
          "metadata": {
            "tags": []
          },
          "execution_count": 15
        }
      ]
    },
    {
      "cell_type": "markdown",
      "metadata": {
        "id": "cI6AvZDWocbh",
        "colab_type": "text"
      },
      "source": [
        "#Saving your cleaned data"
      ]
    },
    {
      "cell_type": "markdown",
      "metadata": {
        "id": "K_1uxRsEAxyU",
        "colab_type": "text"
      },
      "source": [
        "###Save on drive (recommended)"
      ]
    },
    {
      "cell_type": "markdown",
      "metadata": {
        "id": "x0MpbwcepkhM",
        "colab_type": "text"
      },
      "source": [
        "On va sauvegarder nos données dans le dossier `cleaned_ data` (dans le sous dossier hongkong pour être plus spécifique à notre cas) :"
      ]
    },
    {
      "cell_type": "code",
      "metadata": {
        "id": "SOHY6qRMohMu",
        "colab_type": "code",
        "colab": {
          "base_uri": "https://localhost:8080/",
          "height": 35
        },
        "outputId": "e6293486-fd19-4bc0-ea69-12e10f202986"
      },
      "source": [
        "!ls /content/gdrive/Shared\\ drives/PFE_ING3_ESTIA/data/cleaned_data"
      ],
      "execution_count": 32,
      "outputs": [
        {
          "output_type": "stream",
          "text": [
            "hongkong\n"
          ],
          "name": "stdout"
        }
      ]
    },
    {
      "cell_type": "markdown",
      "metadata": {
        "id": "TaROm-xMrMCo",
        "colab_type": "text"
      },
      "source": [
        "On définit le format du nom du csv exporté (**attention :** bien définir le topic et la langue correspondant à notre csv d'entrée )"
      ]
    },
    {
      "cell_type": "code",
      "metadata": {
        "id": "GFBZR3uBo0mD",
        "colab_type": "code",
        "colab": {
          "base_uri": "https://localhost:8080/",
          "height": 35
        },
        "outputId": "19e12cf2-9cb7-4f8e-b85a-2afb5cae85d0"
      },
      "source": [
        "# to export from google collab :\n",
        "from google.colab import files\n",
        "\n",
        "#add datetime to filename\n",
        "import time\n",
        "topic=\"hongkong\"\n",
        "lang=\"en\"\n",
        "\n",
        "date = time.strftime(\"%d-%m-%Y__%H_%M_%S\")\n",
        "savename = \"df_tweets_cleaned_\"+topic+\"_\"+lang+\"_\"+date+\".csv\" \n",
        "\n",
        "savename\n",
        "\n"
      ],
      "execution_count": 47,
      "outputs": [
        {
          "output_type": "execute_result",
          "data": {
            "text/plain": [
              "'df_tweets_cleaned_hongkong_en_24-10-2019__23_56_15.csv'"
            ]
          },
          "metadata": {
            "tags": []
          },
          "execution_count": 47
        }
      ]
    },
    {
      "cell_type": "markdown",
      "metadata": {
        "id": "43LuNj6cspyO",
        "colab_type": "text"
      },
      "source": [
        "On importe sur le drive (penser à déplacer le csv dans le bon thème)"
      ]
    },
    {
      "cell_type": "code",
      "metadata": {
        "id": "6h10V3pYq-7h",
        "colab_type": "code",
        "colab": {}
      },
      "source": [
        "df.to_csv(savename)\n",
        "\n",
        "# copy paste savename and path printed below\n",
        "#!cp savename path\n",
        "\n",
        "#work but nor adaptative (ex : CRON ...) \n",
        "!cp df_tweets_cleaned_en_24-10-2019__23:46:46.csv /content/gdrive/Shared\\ drives/PFE_ING3_ESTIA/data/cleaned_data/\n",
        "\n",
        "#good for cron extract but need to work on shared drives\n",
        "# import shutil\n",
        "# path = \"/content/gdrive/My Drive/\"\n",
        "# shutil.copy(savename, path)\n"
      ],
      "execution_count": 0,
      "outputs": []
    },
    {
      "cell_type": "markdown",
      "metadata": {
        "id": "citMugVpAn7w",
        "colab_type": "text"
      },
      "source": [
        "###Save en local "
      ]
    },
    {
      "cell_type": "markdown",
      "metadata": {
        "id": "RRUPBTyTCoPd",
        "colab_type": "text"
      },
      "source": [
        "On enregistre en local notre csv :"
      ]
    },
    {
      "cell_type": "code",
      "metadata": {
        "id": "qlYHhUvytAlp",
        "colab_type": "code",
        "colab": {}
      },
      "source": [
        "df.to_csv(savename)\n",
        "\n",
        "files.download(savename)"
      ],
      "execution_count": 0,
      "outputs": []
    },
    {
      "cell_type": "code",
      "metadata": {
        "id": "5mWx1VzWASdH",
        "colab_type": "code",
        "colab": {}
      },
      "source": [
        ""
      ],
      "execution_count": 0,
      "outputs": []
    }
  ]
}