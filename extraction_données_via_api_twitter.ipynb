{
  "nbformat": 4,
  "nbformat_minor": 0,
  "metadata": {
    "colab": {
      "name": "extraction données via api twitter.ipynb",
      "provenance": [],
      "collapsed_sections": [],
      "include_colab_link": true
    },
    "kernelspec": {
      "name": "python3",
      "display_name": "Python 3"
    }
  },
  "cells": [
    {
      "cell_type": "markdown",
      "metadata": {
        "id": "view-in-github",
        "colab_type": "text"
      },
      "source": [
        "<a href=\"https://colab.research.google.com/github/RoshanTS/extract-2/blob/master/extraction_donn%C3%A9es_via_api_twitter.ipynb\" target=\"_parent\"><img src=\"https://colab.research.google.com/assets/colab-badge.svg\" alt=\"Open In Colab\"/></a>"
      ]
    },
    {
      "cell_type": "markdown",
      "metadata": {
        "id": "5QqfXiL_kjww",
        "colab_type": "text"
      },
      "source": [
        "On va extraire les tweets "
      ]
    },
    {
      "cell_type": "markdown",
      "metadata": {
        "id": "PjXmxTGVtZ8s",
        "colab_type": "text"
      },
      "source": [
        "sdfdsfdsfdsfdssdfdsf\n"
      ]
    }
  ]
}