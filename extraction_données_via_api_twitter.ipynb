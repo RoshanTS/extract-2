{
  "nbformat": 4,
  "nbformat_minor": 0,
  "metadata": {
    "colab": {
      "name": "extraction données via api twitter.ipynb",
      "provenance": [],
      "collapsed_sections": [],
      "include_colab_link": true
    },
    "kernelspec": {
      "name": "python3",
      "display_name": "Python 3"
    }
  },
  "cells": [
    {
      "cell_type": "markdown",
      "metadata": {
        "id": "view-in-github",
        "colab_type": "text"
      },
      "source": [
        "<a href=\"https://colab.research.google.com/github/RoshanTS/extract-2/blob/master/extraction_donn%C3%A9es_via_api_twitter.ipynb\" target=\"_parent\"><img src=\"https://colab.research.google.com/assets/colab-badge.svg\" alt=\"Open In Colab\"/></a>"
      ]
    },
    {
      "cell_type": "markdown",
      "metadata": {
        "id": "cOi4ApOWPPmB",
        "colab_type": "text"
      },
      "source": [
        "# Chiffres clés"
      ]
    },
    {
      "cell_type": "markdown",
      "metadata": {
        "id": "f2gcWpanP1jF",
        "colab_type": "text"
      },
      "source": [
        "\n",
        "•\t330 millions d’utilisateurs actifs chaque mois (stagnation depuis 2016)\n",
        "•\t140 millions d’utilisateurs monétisables (connecté chaque jour et exposé à la publicité)\n",
        "•\t500 millions de twwet chaque jour (5787 par seconde)\n",
        "•\t12eme site le plus consulté\n",
        "•\tEn 2018, 187 gouvernements/Chef d’état présent sur twitter\n",
        "•\t75% entreprise B2B et 65% des entreprises B2C présentes sur twitter\n",
        "•\tUne marque tweet en moyenne 122 fois par mois\n",
        "\n",
        "\n"
      ]
    },
    {
      "cell_type": "code",
      "metadata": {
        "id": "PKEA5zfOQRM2",
        "colab_type": "code",
        "colab": {}
      },
      "source": [
        ""
      ],
      "execution_count": 0,
      "outputs": []
    }
  ]
}