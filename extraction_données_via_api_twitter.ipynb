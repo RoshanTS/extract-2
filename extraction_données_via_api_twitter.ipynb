{
  "nbformat": 4,
  "nbformat_minor": 0,
  "metadata": {
    "colab": {
      "name": "extraction données via api twitter.ipynb",
      "provenance": [],
      "collapsed_sections": [],
      "include_colab_link": true
    },
    "kernelspec": {
      "name": "python3",
      "display_name": "Python 3"
    }
  },
  "cells": [
    {
      "cell_type": "markdown",
      "metadata": {
        "id": "view-in-github",
        "colab_type": "text"
      },
      "source": [
        "<a href=\"https://colab.research.google.com/github/RoshanTS/pfe-estia/blob/extract_twitter_script/extraction_donn%C3%A9es_via_api_twitter.ipynb\" target=\"_parent\"><img src=\"https://colab.research.google.com/assets/colab-badge.svg\" alt=\"Open In Colab\"/></a>"
      ]
    },
    {
      "cell_type": "markdown",
      "metadata": {
        "id": "1FReQ3DBqtmR",
        "colab_type": "text"
      },
      "source": [
        "# Script d'extraction de données twitter"
      ]
    },
    {
      "cell_type": "markdown",
      "metadata": {
        "id": "IjEdooQfqt1f",
        "colab_type": "text"
      },
      "source": [
        "##Importations of Python modules"
      ]
    },
    {
      "cell_type": "markdown",
      "metadata": {
        "id": "mD4B1uAQuqXt",
        "colab_type": "text"
      },
      "source": [
        "We import the following libraries :\n",
        "\n",
        "*   [tweepy](https://docs.tweepy.org/en/latest/) :  python client for the official [Twitter API](https://developer.twitter.com/en.html) \n",
        "*   [textblob](https://docs.tweepy.org/en/latest/) : python library for processing textual data\n",
        "*  [os](https://docs.python.org/fr/2.7/library/os.html)\n",
        " : contient diverses fonctions pour gérer l'os\n",
        "\n",
        "* [pandas](https://pandas.pydata.org/pandas-docs/version/0.25/) : python library for data analysis\n",
        "\n",
        "* [re](https://docs.python.org/3/library/re.html) : python library for regular expressions\n",
        "\n",
        "* [nltk](https://www.nltk.org/) : python library to do things like   tokenization, stemming, .."
      ]
    },
    {
      "cell_type": "code",
      "metadata": {
        "id": "_gpWc4d-tjwN",
        "colab_type": "code",
        "colab": {}
      },
      "source": [
        "import tweepy \n",
        "import textblob\n",
        "import os\n",
        "import pandas\n",
        "import re\n",
        "import nltk\n"
      ],
      "execution_count": 0,
      "outputs": []
    },
    {
      "cell_type": "markdown",
      "metadata": {
        "id": "c5M6MSXXzndO",
        "colab_type": "text"
      },
      "source": [
        "We're going to use [OAuthHandler](http://docs.tweepy.org/en/v3.5.0/auth_tutorial.html) to deal with authentification :\n"
      ]
    },
    {
      "cell_type": "code",
      "metadata": {
        "id": "usQ4wRGvxFS8",
        "colab_type": "code",
        "colab": {}
      },
      "source": [
        "from tweepy import OAuthHandler \n",
        "from textblob import TextBlob "
      ],
      "execution_count": 0,
      "outputs": []
    },
    {
      "cell_type": "markdown",
      "metadata": {
        "id": "fNHDli2dPGOn",
        "colab_type": "text"
      },
      "source": [
        "## Quick sentiment analysis"
      ]
    },
    {
      "cell_type": "markdown",
      "metadata": {
        "id": "6XVoyEq5qt9N",
        "colab_type": "text"
      },
      "source": [
        "*We* define a classe Twitter client :"
      ]
    },
    {
      "cell_type": "code",
      "metadata": {
        "id": "JjUyj5Hv3sN2",
        "colab_type": "code",
        "colab": {}
      },
      "source": [
        "class TwitterClient(object): \n",
        "\t''' \n",
        "\tGeneric Twitter Class for sentiment analysis. \n",
        "\t'''\n",
        "\tdef __init__(self): \n",
        "\t\t''' \n",
        "\t\tClass constructor or initialization method. \n",
        "\t\t'''\n",
        "\t\t# keys and tokens from the Twitter Dev Console \n",
        "\t\tconsumer_key = 'MlbpfXnAwJeQzQlRYK0dKJ6nB'\n",
        "\t\tconsumer_secret = 'cTZLfoM7xOHpFjSfzUW0Ff0AsKPNsqEOhjMNiMbNW6Eg0NZpWr'\n",
        "\t\taccess_token = '1179886074614689793-VLHbcHpSJoXkml9wVMqd9gIcSs4zMS'\n",
        "\t\taccess_token_secret = 'Vnpf7cZp2uIUsdDDV6egSHdxDQXyCHf7INdKVa8Uqs2H4'\n",
        "\n",
        "\t\t# attempt authentication \n",
        "\t\ttry: \n",
        "\t\t\t# create OAuthHandler object \n",
        "\t\t\tself.auth = OAuthHandler(consumer_key, consumer_secret) \n",
        "\t\t\t# set access token and secret \n",
        "\t\t\tself.auth.set_access_token(access_token, access_token_secret) \n",
        "\t\t\t# create tweepy API object to fetch tweets \n",
        "\t\t\tself.api = tweepy.API(self.auth) \n",
        "\t\texcept: \n",
        "\t\t\tprint(\"Error: Authentication Failed\") \n",
        "\n",
        "\tdef clean_tweet(self, tweet): \n",
        "\t\t''' \n",
        "\t\tUtility function to clean tweet text by removing links, special characters \n",
        "\t\tusing simple regex statements. \n",
        "\t\t'''\n",
        "\t\treturn ' '.join(re.sub(\"(@[A-Za-z0-9]+)|([^0-9A-Za-z \\t])|(\\w+:\\/\\/\\S+)\", \" \", tweet).split()) \n",
        "\n",
        "\tdef get_tweet_sentiment(self, tweet): \n",
        "\t\t''' \n",
        "\t\tUtility function to classify sentiment of passed tweet \n",
        "\t\tusing textblob's sentiment method \n",
        "\t\t'''\n",
        "\t\t# create TextBlob object of passed tweet text \n",
        "\t\tanalysis = TextBlob(self.clean_tweet(tweet)) \n",
        "\t\t# set sentiment \n",
        "\t\tif analysis.sentiment.polarity > 0: \n",
        "\t\t\treturn 'positive'\n",
        "\t\telif analysis.sentiment.polarity == 0: \n",
        "\t\t\treturn 'neutral'\n",
        "\t\telse: \n",
        "\t\t\treturn 'negative'\n",
        "\n",
        "\tdef get_tweets(self, query, count = 10): \n",
        "\t\t''' \n",
        "\t\tMain function to fetch tweets and parse them. \n",
        "\t\t'''\n",
        "\t\t# empty list to store parsed tweets \n",
        "\t\ttweets = [] \n",
        "\n",
        "\t\ttry: \n",
        "\t\t\t# call twitter api to fetch tweets \n",
        "\t\t\tfetched_tweets = self.api.search(q = query, count = count) \n",
        "\n",
        "\t\t\t# parsing tweets one by one \n",
        "\t\t\tfor tweet in fetched_tweets: \n",
        "\t\t\t\t# empty dictionary to store required params of a tweet \n",
        "\t\t\t\tparsed_tweet = {} \n",
        "\n",
        "\t\t\t\t# saving text of tweet \n",
        "\t\t\t\tparsed_tweet['text'] = tweet.text \n",
        "\t\t\t\t# saving sentiment of tweet \n",
        "\t\t\t\tparsed_tweet['sentiment'] = self.get_tweet_sentiment(tweet.text) \n",
        "\n",
        "\t\t\t\t# appending parsed tweet to tweets list \n",
        "\t\t\t\tif tweet.retweet_count > 0: \n",
        "\t\t\t\t\t# if tweet has retweets, ensure that it is appended only once \n",
        "\t\t\t\t\tif parsed_tweet not in tweets: \n",
        "\t\t\t\t\t\ttweets.append(parsed_tweet) \n",
        "\t\t\t\telse: \n",
        "\t\t\t\t\ttweets.append(parsed_tweet) \n",
        "\n",
        "\t\t\t# return parsed tweets \n",
        "\t\t\treturn tweets \n",
        "\n",
        "\t\texcept tweepy.TweepError as e: \n",
        "\t\t\t# print error (if any) \n",
        "\t\t\tprint(\"Error : \" + str(e)) \n"
      ],
      "execution_count": 0,
      "outputs": []
    },
    {
      "cell_type": "markdown",
      "metadata": {
        "id": "2HmOykkc8-1T",
        "colab_type": "text"
      },
      "source": [
        "We define a function main :\n",
        "\n",
        "\n",
        "1.   query sur l'api twitter\n",
        "2.   print positive versus negative sentiment analysis\n",
        "\n"
      ]
    },
    {
      "cell_type": "code",
      "metadata": {
        "id": "h5nJYyn47Ig0",
        "colab_type": "code",
        "colab": {}
      },
      "source": [
        "\n",
        "def main(query): \n",
        "\t# creating object of TwitterClient Class \n",
        "\tapi = TwitterClient() \n",
        "\t# calling function to get tweets \n",
        "\ttweets = api.get_tweets(query, count = 200) \n",
        "\n",
        "\t# picking positive tweets from tweets \n",
        "\tptweets = [tweet for tweet in tweets if tweet['sentiment'] == 'positive'] \n",
        "\t# percentage of positive tweets \n",
        "\tprint(\"Positive tweets percentage: {} %\".format(100*len(ptweets)/len(tweets))) \n",
        "\t# picking negative tweets from tweets \n",
        "\tntweets = [tweet for tweet in tweets if tweet['sentiment'] == 'negative'] \n",
        "\t# percentage of negative tweets \n",
        "\tprint(\"Negative tweets percentage: {} %\".format(100*len(ntweets)/len(tweets))) \n",
        "\t# percentage of neutral tweets \n",
        "#\tprint(\"Neutral tweets percentage: {} %\".format(100*len(tweets - ntweets - ptweets)/len(tweets))) \n",
        "\n",
        "\t# printing first 5 positive tweets \n",
        "\tprint(\"\\n\\nPositive tweets:\") \n",
        "\tfor tweet in ptweets[:10]: \n",
        "\t\tprint(tweet['text']) \n",
        "\n",
        "\t# printing first 5 negative tweets \n",
        "\tprint(\"\\n\\nNegative tweets:\") \n",
        "\tfor tweet in ntweets[:10]: \n",
        "\t\tprint(tweet['text']) \n"
      ],
      "execution_count": 0,
      "outputs": []
    },
    {
      "cell_type": "markdown",
      "metadata": {
        "id": "lH1vKVyg7XmK",
        "colab_type": "text"
      },
      "source": [
        "We apply our analysis to the tweets featuring \"Hong Kong\":"
      ]
    },
    {
      "cell_type": "code",
      "metadata": {
        "id": "v-XRd9Hj4Al9",
        "colab_type": "code",
        "outputId": "3a9df7fd-3e78-475f-b36e-ee3715d6c50b",
        "colab": {
          "base_uri": "https://localhost:8080/",
          "height": 882
        }
      },
      "source": [
        "\n",
        "if __name__ == \"__main__\": \n",
        "\t# calling main function \n",
        "\tmain('#HongKong') \n"
      ],
      "execution_count": 0,
      "outputs": [
        {
          "output_type": "stream",
          "text": [
            "Positive tweets percentage: 23.728813559322035 %\n",
            "Negative tweets percentage: 18.64406779661017 %\n",
            "\n",
            "\n",
            "Positive tweets:\n",
            "RT @joshuawongcf: Last week, the #HongKong Government invoked the Emergency Regulations Ordinance to outlaw face masks, curbing our right t…\n",
            "RT @Jay_Watt: Harry Harrison #cartoon in today's @SCMPNews pointing out the new normal for the #HongKong police: they absolutely will deman…\n",
            "RT @realKyleOlbert: I met a kind old man from #Guangdong Province today &amp; asked him for his opinion on #HongKong.\n",
            "\n",
            "I was startled to hear h…\n",
            "RT @9GAG: Blizzard: Not us\n",
            "#HongKong \n",
            "-\n",
            "Original comic: @JakeClarkDude https://t.co/Kp9ACaz4c1\n",
            "RT @BoycottHegemony: This is the #CCP world we live in now. WAKE UP!\n",
            "\n",
            "A Sydney #gamingstartup has been hit by a concerted #cyberattack afte…\n",
            "RT @SenRickScott: As the first Senator to visit #HongKong since the protests started, my message is simple. To the brave people of HK: We a…\n",
            "RT @patrickyflee: Female student of the Chinese University of Hong Kong removes mask and narrates her experience of sexual assault by the H…\n",
            "RT @AnnieBoyajian: Honored to stand with friends tonight defending free speech in #America, standing in solidarity with #HongKong, and spea…\n",
            "RT @chillilucas_hk: Guys! You are awesome! ♥️\n",
            "We already passed 4k Subs in the new channel!\n",
            "How can I thank you enough? I promise I will co…\n",
            "I would really, really like if someone could find this for me. It was a news interview but I don't remember what st… https://t.co/a4bZv2GaqP\n",
            "\n",
            "\n",
            "Negative tweets:\n",
            "RT @hayashikakeru: [1/3] Full Eng subtitled video of #CUHK student's tearful testimony abt horrific abuses by #Hongkong police against arre…\n",
            "RT @hayashikakeru: [3/3] Full Eng subtitled video of #CUHK student's tearful testimony abt horrific abuses by #Hongkong police against arre…\n",
            "RT @goldenp11462989: 请战友们广传\n",
            "🙏🙏\n",
            "受到性侵女孩子勇敢的证词！\n",
            "Full Eng subtitled video of #CUHK student's tearful testimony abt horrific abuses by #Hongkong…\n",
            "RT @RaptorBuzz: A #HongKong girl studying at CUHK recalled the nightmarish experience of her and other arrestees at #SanUkLing. She asked t…\n",
            "RT @hayashikakeru: [2/3] Full Eng subtitled video of #CUHK student's tearful testimony abt horrific abuses by #Hongkong police against arre…\n",
            "RT @AnneChaAsia: RT @thetimeusedtobe testimony from #SanUkLing detention and torture center. There's massive #HKPolice abuse in the streets…\n",
            "RT @Woppa1Woppa: Holy shit!!!  This is the protester girl we were tweeting about a few weeks ago who went missing!!! 😡😡😡\n",
            "\n",
            "She's dead!\n",
            "\n",
            "#Hon…\n",
            "Disgusting @Apple pleases #CCP #China by sacrificing #Hongkong public safetly. #Apple #Kowtow https://t.co/cVOSdopLVp\n",
            "RT @lukedepulford: #HongKong your pressure is working! See this letter from @DominicRaab \n",
            "👉Apologising for previous reply.\n",
            "👉 🚨🚨Leaving door…\n",
            "RT @VoCommunism: Come out and show your support for #HongKong as the @WashWizards match up with the Guangzhou Long-Lions.\n",
            "\n",
            "Doors open at 6p…\n"
          ],
          "name": "stdout"
        }
      ]
    },
    {
      "cell_type": "markdown",
      "metadata": {
        "id": "mjelTUpB-qUv",
        "colab_type": "text"
      },
      "source": [
        "## Extract twitter data from a query"
      ]
    },
    {
      "cell_type": "markdown",
      "metadata": {
        "id": "DoqbAyxtAmVz",
        "colab_type": "text"
      },
      "source": [
        "### Authentifaction parameters"
      ]
    },
    {
      "cell_type": "code",
      "metadata": {
        "id": "ItWG6NyaAmyN",
        "colab_type": "code",
        "colab": {}
      },
      "source": [
        "dict_key_token = {'consumer_key' : 'MlbpfXnAwJeQzQlRYK0dKJ6nB',\n",
        "                  'consumer_secret' : 'cTZLfoM7xOHpFjSfzUW0Ff0AsKPNsqEOhjMNiMbNW6Eg0NZpWr',\n",
        "                  'access_token' : '1179886074614689793-VLHbcHpSJoXkml9wVMqd9gIcSs4zMS',\n",
        "                  'access_token_secret' : 'Vnpf7cZp2uIUsdDDV6egSHdxDQXyCHf7INdKVa8Uqs2H4'\n",
        "                 }\n",
        "\n",
        "\n",
        "auth = tweepy.OAuthHandler(dict_key_token['consumer_key'], dict_key_token['consumer_secret'])\n",
        "auth.set_access_token(dict_key_token['access_token'], dict_key_token['access_token_secret'])\n",
        "api = tweepy.API(auth, wait_on_rate_limit=True)"
      ],
      "execution_count": 0,
      "outputs": []
    },
    {
      "cell_type": "markdown",
      "metadata": {
        "id": "RlwWe7qR-zFr",
        "colab_type": "text"
      },
      "source": [
        "### Part 1 : how to search for tweets ?"
      ]
    },
    {
      "cell_type": "markdown",
      "metadata": {
        "id": "ylEozL9b_XtV",
        "colab_type": "text"
      },
      "source": [
        "We define variables linked to our search :"
      ]
    },
    {
      "cell_type": "code",
      "metadata": {
        "id": "vLqmQ70i7S3v",
        "colab_type": "code",
        "colab": {}
      },
      "source": [
        "#content of our query\n",
        "search_words = \"Hong Kong\"\n",
        "\n",
        "#we want tweets starting from ..\n",
        "date_since = \"2019-10-01\"\n",
        "\n",
        "#we want a given number of tweets\n",
        "nb_tweets = 10"
      ],
      "execution_count": 0,
      "outputs": []
    },
    {
      "cell_type": "markdown",
      "metadata": {
        "id": "0El7SOop_fqb",
        "colab_type": "text"
      },
      "source": [
        "Then , we collect tweets (note that we could specify the language) and print them :"
      ]
    },
    {
      "cell_type": "code",
      "metadata": {
        "id": "_8Onlqko_ANK",
        "colab_type": "code",
        "outputId": "f2535442-608c-4830-e5b7-72db70dcc07b",
        "colab": {
          "base_uri": "https://localhost:8080/",
          "height": 336
        }
      },
      "source": [
        "#Collect tweets\n",
        "tweets = tweepy.Cursor(api.search,\n",
        "                      q=search_words,\n",
        "                      lang=\"en\",  \n",
        "                       since=date_since).items(nb_tweets)\n",
        "\n",
        "# Iterate and print tweets\n",
        "\n",
        "for tweet in tweets:\n",
        "    print(tweet.text)\n",
        "  "
      ],
      "execution_count": 0,
      "outputs": [
        {
          "output_type": "stream",
          "text": [
            "To be honest,\n",
            "the whole #BoycottBlizzard seems like hindsight.\n",
            "I mean, what's the real reason that meddling with th… https://t.co/m8wszLAH4q\n",
            "Good 3 Qs: “When was @hkmaplive “used maliciously to target individual officers for violence”?\n",
            "When was it used to… https://t.co/VtRybpwAbv\n",
            "RT @JesseKellyDC: REMINDER: There is no “impeachment probe”. The House hasn’t voted on it cause they don’t have the votes and their story i…\n",
            "I think its so cool my great grandfather is from Hong Kong 🇭🇰\n",
            "RT @Nicole__1022: A follow up: CCP netizens reaction to Adam Silvers statement on NBA\n",
            "\n",
            "If I m not mistaken, thats a blatant statement calli…\n",
            "RT @blakersdozen: Scoop: Blizzard employees walked out of work yesterday over the company's decision to ban a pro-Hong-Kong professional He…\n",
            "RT @SpeakeasyJames: Bernier on the repatriation for 2 Canadians held in China.\n",
            "Trudeau claims to defend Canadians (but after 2 years)\n",
            "Schee…\n",
            "RT @HawleyMO: Apple assured me last week that their initial decision to ban this app was a mistake. Looks like the Chinese censors have had…\n",
            "RT @mrbcyber: Blizzard, Apple, and Google remove signs of support for pro-democracy protesters, in concessions to the Peoples Republic of C…\n",
            "RT @NBCNews: The Houston Rockets interrupted a reporter's question and said their players shouldn't be asked about any off-the-court issues…\n"
          ],
          "name": "stdout"
        }
      ]
    },
    {
      "cell_type": "markdown",
      "metadata": {
        "id": "UXdtQ3eQG4gQ",
        "colab_type": "text"
      },
      "source": [
        "### Part 2 : How to keep or remove retweets ?"
      ]
    },
    {
      "cell_type": "code",
      "metadata": {
        "id": "UttJrnJQAXN7",
        "colab_type": "code",
        "colab": {}
      },
      "source": [
        "new_search = search_words + \" -filter:retweets\"\n",
        "new_search"
      ],
      "execution_count": 0,
      "outputs": []
    },
    {
      "cell_type": "markdown",
      "metadata": {
        "id": "6i_2bgVBHQEX",
        "colab_type": "text"
      },
      "source": [
        "Same as before, we collect :"
      ]
    },
    {
      "cell_type": "code",
      "metadata": {
        "id": "o5-yEI9kG3Ef",
        "colab_type": "code",
        "outputId": "63135b7f-4aa2-4cdf-bbff-1c1f61a3f749",
        "colab": {
          "base_uri": "https://localhost:8080/",
          "height": 213
        }
      },
      "source": [
        "#Collect tweets\n",
        "tweets = tweepy.Cursor(api.search,\n",
        "                      q=search_words,\n",
        "                      lang=\"en\",  \n",
        "                       since=date_since).items(nb_tweets)\n",
        "\n",
        "# Iterate and print tweets\n",
        "\n",
        "[tweet.text for tweet in tweets]\n"
      ],
      "execution_count": 0,
      "outputs": [
        {
          "output_type": "execute_result",
          "data": {
            "text/plain": [
              "[\"To be honest,\\nthe whole #BoycottBlizzard seems like hindsight.\\nI mean, what's the real reason that meddling with th… https://t.co/m8wszLAH4q\",\n",
              " 'Good 3 Qs: “When was @hkmaplive “used maliciously to target individual officers for violence”?\\nWhen was it used to… https://t.co/VtRybpwAbv',\n",
              " 'RT @JesseKellyDC: REMINDER: There is no “impeachment probe”. The House hasn’t voted on it cause they don’t have the votes and their story i…',\n",
              " 'I think its so cool my great grandfather is from Hong Kong 🇭🇰',\n",
              " 'RT @Nicole__1022: A follow up: CCP netizens reaction to Adam Silvers statement on NBA\\n\\nIf I m not mistaken, thats a blatant statement calli…',\n",
              " \"RT @blakersdozen: Scoop: Blizzard employees walked out of work yesterday over the company's decision to ban a pro-Hong-Kong professional He…\",\n",
              " 'RT @SpeakeasyJames: Bernier on the repatriation for 2 Canadians held in China.\\nTrudeau claims to defend Canadians (but after 2 years)\\nSchee…',\n",
              " 'RT @HawleyMO: Apple assured me last week that their initial decision to ban this app was a mistake. Looks like the Chinese censors have had…',\n",
              " 'RT @mrbcyber: Blizzard, Apple, and Google remove signs of support for pro-democracy protesters, in concessions to the Peoples Republic of C…',\n",
              " \"RT @NBCNews: The Houston Rockets interrupted a reporter's question and said their players shouldn't be asked about any off-the-court issues…\"]"
            ]
          },
          "metadata": {
            "tags": []
          },
          "execution_count": 122
        }
      ]
    },
    {
      "cell_type": "markdown",
      "metadata": {
        "id": "nR7TQkmLJIIk",
        "colab_type": "text"
      },
      "source": [
        "### Part 3 : Who's tweeting about our topic ?"
      ]
    },
    {
      "cell_type": "code",
      "metadata": {
        "id": "SvaVHfxqJWHM",
        "colab_type": "code",
        "outputId": "28402cbb-ec83-49dc-90be-4a61fc1460e7",
        "colab": {
          "base_uri": "https://localhost:8080/",
          "height": 195
        }
      },
      "source": [
        "# Collect tweets\n",
        "tweets = tweepy.Cursor(api.search, \n",
        "                           q=new_search,\n",
        "                           lang=\"en\",\n",
        "                           since=date_since).items(5)\n",
        "\n",
        "\n",
        "\n",
        "#Storing in a list and printing the collected tweets \n",
        "  #tweet.user.screen_name to get user's name\n",
        "  #tweet.user.location to get user's provided location\n",
        "\n",
        "users_locs = [[tweet.user.screen_name, tweet.user.location] for tweet in tweets]\n",
        "users_locs"
      ],
      "execution_count": 0,
      "outputs": [
        {
          "output_type": "execute_result",
          "data": {
            "text/plain": [
              "[['IPDefenseForum',\n",
              "  'Blizzard won’t ban American players after Hong Kong protest, but team plans to forfeit over boycott #IndoAsiaPac… https://t.co/qzdgoUGX2t'],\n",
              " ['Bariter5', '@Blizzard_Ent Stand up for #HongKong. Revolution in our time'],\n",
              " ['GrownDirtStorm',\n",
              "  '#HongKong #Blizzard #BoycottBlizzard I make me em https://t.co/dQHi2iPy8W'],\n",
              " ['nazbolqueen',\n",
              "  'Blizzard with some Lannister tier punishments on gamers for discussing Hong Kong. \\n\\n#HongKongProtest #HongKong… https://t.co/bajO92LutJ'],\n",
              " ['LillyMuse4',\n",
              "  'From @reddit \\n.\\n.\\n.\\n.\\n.\\n.\\n.\\n.\\n#blizzard #blizzardentertainment #blizzardgames #hearthstone #overwatch… https://t.co/Vw8JzluSif']]"
            ]
          },
          "metadata": {
            "tags": []
          },
          "execution_count": 152
        }
      ]
    },
    {
      "cell_type": "markdown",
      "metadata": {
        "id": "lmlrojktKQXy",
        "colab_type": "text"
      },
      "source": [
        "### Part 3 : Create a pandas dataframe from a list of tweets"
      ]
    },
    {
      "cell_type": "code",
      "metadata": {
        "id": "ISIIV43UKbu_",
        "colab_type": "code",
        "outputId": "b5030d70-379c-4539-e2f6-cb523220621b",
        "colab": {
          "base_uri": "https://localhost:8080/",
          "height": 195
        }
      },
      "source": [
        "tweet_text = pandas.DataFrame(data=users_locs, \n",
        "                    columns=['user', \"location\"])\n",
        "tweet_text"
      ],
      "execution_count": 0,
      "outputs": [
        {
          "output_type": "execute_result",
          "data": {
            "text/html": [
              "<div>\n",
              "<style scoped>\n",
              "    .dataframe tbody tr th:only-of-type {\n",
              "        vertical-align: middle;\n",
              "    }\n",
              "\n",
              "    .dataframe tbody tr th {\n",
              "        vertical-align: top;\n",
              "    }\n",
              "\n",
              "    .dataframe thead th {\n",
              "        text-align: right;\n",
              "    }\n",
              "</style>\n",
              "<table border=\"1\" class=\"dataframe\">\n",
              "  <thead>\n",
              "    <tr style=\"text-align: right;\">\n",
              "      <th></th>\n",
              "      <th>user</th>\n",
              "      <th>location</th>\n",
              "    </tr>\n",
              "  </thead>\n",
              "  <tbody>\n",
              "    <tr>\n",
              "      <th>0</th>\n",
              "      <td>nigelcameron</td>\n",
              "      <td>Chiefly Brussels, but also London, DC, Chicago</td>\n",
              "    </tr>\n",
              "    <tr>\n",
              "      <th>1</th>\n",
              "      <td>transgrrl</td>\n",
              "      <td></td>\n",
              "    </tr>\n",
              "    <tr>\n",
              "      <th>2</th>\n",
              "      <td>Hoodlum420</td>\n",
              "      <td>Hollywood, CA</td>\n",
              "    </tr>\n",
              "    <tr>\n",
              "      <th>3</th>\n",
              "      <td>MichaelDavSmith</td>\n",
              "      <td>Chicago</td>\n",
              "    </tr>\n",
              "    <tr>\n",
              "      <th>4</th>\n",
              "      <td>GingeKingYT</td>\n",
              "      <td></td>\n",
              "    </tr>\n",
              "  </tbody>\n",
              "</table>\n",
              "</div>"
            ],
            "text/plain": [
              "              user                                        location\n",
              "0     nigelcameron  Chiefly Brussels, but also London, DC, Chicago\n",
              "1        transgrrl                                                \n",
              "2       Hoodlum420                                   Hollywood, CA\n",
              "3  MichaelDavSmith                                         Chicago\n",
              "4      GingeKingYT                                                "
            ]
          },
          "metadata": {
            "tags": []
          },
          "execution_count": 128
        }
      ]
    },
    {
      "cell_type": "markdown",
      "metadata": {
        "id": "qjF7tFFPKrED",
        "colab_type": "text"
      },
      "source": [
        "We have empty rows for column 'location cause some users have refused to share their locations with Twitter."
      ]
    },
    {
      "cell_type": "markdown",
      "metadata": {
        "id": "sspkLodFLEnq",
        "colab_type": "text"
      },
      "source": [
        "### Part 5 : Customizing twitter queries"
      ]
    },
    {
      "cell_type": "markdown",
      "metadata": {
        "id": "Hxu1fvehLPfV",
        "colab_type": "text"
      },
      "source": [
        "Look at [twitter API](https://developer.twitter.com/en/docs/tweets/rules-and-filtering/overview/standard-operators) for more infos.\n",
        "\n",
        "We're going to make a query with \"Hongkong + blizzard\" and collect the tweets related : "
      ]
    },
    {
      "cell_type": "code",
      "metadata": {
        "id": "vxmLqPA_K5De",
        "colab_type": "code",
        "colab": {}
      },
      "source": [
        "new_search = \"hongkong  -filter:retweets\"\n",
        "\n",
        "tweets = tweepy.Cursor(api.search,\n",
        "                   q=new_search,\n",
        "                   #lang=\"en\",\n",
        "                   since='2018-04-23').items(2000)\n",
        "\n",
        "#all_tweets = [tweet.text for tweet in tweets]\n",
        "#all_tweets[:5]\n"
      ],
      "execution_count": 0,
      "outputs": []
    },
    {
      "cell_type": "markdown",
      "metadata": {
        "id": "hwZCfUMQR4S3",
        "colab_type": "text"
      },
      "source": [
        "We get tweet informations and store everything in a dataframe : "
      ]
    },
    {
      "cell_type": "code",
      "metadata": {
        "id": "0KU9rzUYLepA",
        "colab_type": "code",
        "outputId": "6887da8a-ad2d-4483-cc08-b3f668e0233d",
        "colab": {
          "base_uri": "https://localhost:8080/",
          "height": 1000
        }
      },
      "source": [
        "\n",
        "users_infos = [[tweet.user.screen_name, tweet.user.location, tweet.text,tweet.lang,tweet.favorite_count,tweet.retweet_count,tweet.created_at] for tweet in tweets]\n",
        "users_infos\n",
        "\n",
        "\n",
        "\n",
        "df_tweets = pandas.DataFrame(data=users_infos, \n",
        "                    columns=['user', \"location\",\"tweet content\",\"language\",\"nb_favorite\",\"nb_retweet\",\"created_at\"])\n",
        "df_tweets\n",
        "\n"
      ],
      "execution_count": 100,
      "outputs": [
        {
          "output_type": "execute_result",
          "data": {
            "text/html": [
              "<div>\n",
              "<style scoped>\n",
              "    .dataframe tbody tr th:only-of-type {\n",
              "        vertical-align: middle;\n",
              "    }\n",
              "\n",
              "    .dataframe tbody tr th {\n",
              "        vertical-align: top;\n",
              "    }\n",
              "\n",
              "    .dataframe thead th {\n",
              "        text-align: right;\n",
              "    }\n",
              "</style>\n",
              "<table border=\"1\" class=\"dataframe\">\n",
              "  <thead>\n",
              "    <tr style=\"text-align: right;\">\n",
              "      <th></th>\n",
              "      <th>user</th>\n",
              "      <th>location</th>\n",
              "      <th>tweet content</th>\n",
              "      <th>language</th>\n",
              "      <th>nb_favorite</th>\n",
              "      <th>nb_retweet</th>\n",
              "      <th>created_at</th>\n",
              "    </tr>\n",
              "  </thead>\n",
              "  <tbody>\n",
              "    <tr>\n",
              "      <th>0</th>\n",
              "      <td>Hei0v0</td>\n",
              "      <td></td>\n",
              "      <td>@SenAngusKing @marcorubio @senatemajldr Thank ...</td>\n",
              "      <td>en</td>\n",
              "      <td>0</td>\n",
              "      <td>0</td>\n",
              "      <td>2019-10-18 00:36:47</td>\n",
              "    </tr>\n",
              "    <tr>\n",
              "      <th>1</th>\n",
              "      <td>WinChan05999504</td>\n",
              "      <td></td>\n",
              "      <td>@SenAngusKing @pinkykiki222 @marcorubio @senat...</td>\n",
              "      <td>en</td>\n",
              "      <td>0</td>\n",
              "      <td>0</td>\n",
              "      <td>2019-10-18 00:36:44</td>\n",
              "    </tr>\n",
              "    <tr>\n",
              "      <th>2</th>\n",
              "      <td>muimui_hongkong</td>\n",
              "      <td></td>\n",
              "      <td>香港帰りてぃ😭</td>\n",
              "      <td>ja</td>\n",
              "      <td>0</td>\n",
              "      <td>0</td>\n",
              "      <td>2019-10-18 00:36:16</td>\n",
              "    </tr>\n",
              "    <tr>\n",
              "      <th>3</th>\n",
              "      <td>lia286848909</td>\n",
              "      <td></td>\n",
              "      <td>@ajmm19923493 Never forgot. Never forgive.\\n#F...</td>\n",
              "      <td>en</td>\n",
              "      <td>0</td>\n",
              "      <td>0</td>\n",
              "      <td>2019-10-18 00:36:15</td>\n",
              "    </tr>\n",
              "    <tr>\n",
              "      <th>4</th>\n",
              "      <td>canativeobt</td>\n",
              "      <td>OCEAN BEACH SD CALIF</td>\n",
              "      <td>Hong Kong assembly in chaos; attack on democra...</td>\n",
              "      <td>en</td>\n",
              "      <td>0</td>\n",
              "      <td>0</td>\n",
              "      <td>2019-10-18 00:35:55</td>\n",
              "    </tr>\n",
              "    <tr>\n",
              "      <th>5</th>\n",
              "      <td>SiddLively</td>\n",
              "      <td></td>\n",
              "      <td>@NBAStatGuy_ @The_Alex_Barber @clintisiceman @...</td>\n",
              "      <td>en</td>\n",
              "      <td>0</td>\n",
              "      <td>0</td>\n",
              "      <td>2019-10-18 00:35:44</td>\n",
              "    </tr>\n",
              "    <tr>\n",
              "      <th>6</th>\n",
              "      <td>aprilwg</td>\n",
              "      <td>Hong Kong</td>\n",
              "      <td>Real #HongKongers won’t attack ethical minorit...</td>\n",
              "      <td>en</td>\n",
              "      <td>0</td>\n",
              "      <td>0</td>\n",
              "      <td>2019-10-18 00:35:20</td>\n",
              "    </tr>\n",
              "    <tr>\n",
              "      <th>7</th>\n",
              "      <td>k0kOT9lIijVx3GF</td>\n",
              "      <td></td>\n",
              "      <td>＃hongkong 一群话都答不上来的人，口口声声要救香港 https://t.co/w3Z...</td>\n",
              "      <td>zh</td>\n",
              "      <td>1</td>\n",
              "      <td>1</td>\n",
              "      <td>2019-10-18 00:35:11</td>\n",
              "    </tr>\n",
              "    <tr>\n",
              "      <th>8</th>\n",
              "      <td>Zzchuja</td>\n",
              "      <td>Hong Kong</td>\n",
              "      <td>@SCMPNews I think it is the 4th time that Rese...</td>\n",
              "      <td>en</td>\n",
              "      <td>0</td>\n",
              "      <td>0</td>\n",
              "      <td>2019-10-18 00:34:51</td>\n",
              "    </tr>\n",
              "    <tr>\n",
              "      <th>9</th>\n",
              "      <td>SPICCA0911</td>\n",
              "      <td></td>\n",
              "      <td>@RepZoeLofgren Thankyou very much for supporti...</td>\n",
              "      <td>en</td>\n",
              "      <td>0</td>\n",
              "      <td>0</td>\n",
              "      <td>2019-10-18 00:34:32</td>\n",
              "    </tr>\n",
              "    <tr>\n",
              "      <th>10</th>\n",
              "      <td>HBertapa</td>\n",
              "      <td>Jakarta Capital Region</td>\n",
              "      <td>Bocoran dan Prediksi togel hongkong Jum'at 18 ...</td>\n",
              "      <td>in</td>\n",
              "      <td>0</td>\n",
              "      <td>0</td>\n",
              "      <td>2019-10-18 00:34:16</td>\n",
              "    </tr>\n",
              "    <tr>\n",
              "      <th>11</th>\n",
              "      <td>SOSHK13</td>\n",
              "      <td></td>\n",
              "      <td>@RepZoeLofgren Thank you Rep. Lofgren. \\nWe’re...</td>\n",
              "      <td>en</td>\n",
              "      <td>0</td>\n",
              "      <td>0</td>\n",
              "      <td>2019-10-18 00:33:43</td>\n",
              "    </tr>\n",
              "    <tr>\n",
              "      <th>12</th>\n",
              "      <td>RizoTMessenger</td>\n",
              "      <td>Detroit, MI</td>\n",
              "      <td>#hocuspocus #abracadabra #opensesame #10X\\n#Ne...</td>\n",
              "      <td>en</td>\n",
              "      <td>0</td>\n",
              "      <td>0</td>\n",
              "      <td>2019-10-18 00:33:26</td>\n",
              "    </tr>\n",
              "    <tr>\n",
              "      <th>13</th>\n",
              "      <td>Whitley70651523</td>\n",
              "      <td>Portsmouth, England</td>\n",
              "      <td>Hong Kongers 🇭🇰🇭🇰🇭🇰💪🏻💪🏻💪🏻\\nStan with HK fight ...</td>\n",
              "      <td>en</td>\n",
              "      <td>0</td>\n",
              "      <td>0</td>\n",
              "      <td>2019-10-18 00:33:25</td>\n",
              "    </tr>\n",
              "    <tr>\n",
              "      <th>14</th>\n",
              "      <td>GmHens</td>\n",
              "      <td></td>\n",
              "      <td>@kookkoya hongkong 😭🥺💜 https://t.co/LQq7HdzbBl</td>\n",
              "      <td>in</td>\n",
              "      <td>0</td>\n",
              "      <td>0</td>\n",
              "      <td>2019-10-18 00:33:13</td>\n",
              "    </tr>\n",
              "    <tr>\n",
              "      <th>15</th>\n",
              "      <td>RizoTMessenger</td>\n",
              "      <td>Detroit, MI</td>\n",
              "      <td>#hocuspocus #abracadabra #opensesame #10X \\n#N...</td>\n",
              "      <td>en</td>\n",
              "      <td>0</td>\n",
              "      <td>0</td>\n",
              "      <td>2019-10-18 00:33:13</td>\n",
              "    </tr>\n",
              "    <tr>\n",
              "      <th>16</th>\n",
              "      <td>icecapboy1</td>\n",
              "      <td>Toronto, Ontario</td>\n",
              "      <td>《願榮光歸香港》德語版 Möge der Ruhm Hongkong gehören htt...</td>\n",
              "      <td>ja</td>\n",
              "      <td>0</td>\n",
              "      <td>0</td>\n",
              "      <td>2019-10-18 00:33:09</td>\n",
              "    </tr>\n",
              "    <tr>\n",
              "      <th>17</th>\n",
              "      <td>MarkAYNunez</td>\n",
              "      <td>San Francisco, CA</td>\n",
              "      <td>The Spider Lady and Other Short Stories and Po...</td>\n",
              "      <td>en</td>\n",
              "      <td>0</td>\n",
              "      <td>0</td>\n",
              "      <td>2019-10-18 00:32:56</td>\n",
              "    </tr>\n",
              "    <tr>\n",
              "      <th>18</th>\n",
              "      <td>MsAnitaLove</td>\n",
              "      <td>International</td>\n",
              "      <td>Final TOURS for 2019  💋\\n\\n#SINGAPORE\\n#DOHA\\n...</td>\n",
              "      <td>en</td>\n",
              "      <td>0</td>\n",
              "      <td>0</td>\n",
              "      <td>2019-10-18 00:32:49</td>\n",
              "    </tr>\n",
              "    <tr>\n",
              "      <th>19</th>\n",
              "      <td>hkerhkconst</td>\n",
              "      <td></td>\n",
              "      <td>@SenTedCruz @KenjiEndo6 @NBA Thank you #StandW...</td>\n",
              "      <td>en</td>\n",
              "      <td>0</td>\n",
              "      <td>0</td>\n",
              "      <td>2019-10-18 00:32:20</td>\n",
              "    </tr>\n",
              "    <tr>\n",
              "      <th>20</th>\n",
              "      <td>kidwonghk</td>\n",
              "      <td>Hong Kong</td>\n",
              "      <td>Finally!!\\nPlease HK 🇭🇰 Please~~~ 🥺\\n#Minecraf...</td>\n",
              "      <td>en</td>\n",
              "      <td>0</td>\n",
              "      <td>0</td>\n",
              "      <td>2019-10-18 00:31:38</td>\n",
              "    </tr>\n",
              "    <tr>\n",
              "      <th>21</th>\n",
              "      <td>Tony54971329</td>\n",
              "      <td></td>\n",
              "      <td>@free_hongkong__ That’s the law of US as tool ...</td>\n",
              "      <td>en</td>\n",
              "      <td>0</td>\n",
              "      <td>0</td>\n",
              "      <td>2019-10-18 00:31:30</td>\n",
              "    </tr>\n",
              "    <tr>\n",
              "      <th>22</th>\n",
              "      <td>oranj2</td>\n",
              "      <td>Indie Film Producer</td>\n",
              "      <td>@hongkong_news Communist Beijing is shookt</td>\n",
              "      <td>en</td>\n",
              "      <td>0</td>\n",
              "      <td>0</td>\n",
              "      <td>2019-10-18 00:31:24</td>\n",
              "    </tr>\n",
              "    <tr>\n",
              "      <th>23</th>\n",
              "      <td>emilyswemily1</td>\n",
              "      <td></td>\n",
              "      <td>@RepZoeLofgren Thank you very much. Nice T-shi...</td>\n",
              "      <td>en</td>\n",
              "      <td>0</td>\n",
              "      <td>0</td>\n",
              "      <td>2019-10-18 00:31:15</td>\n",
              "    </tr>\n",
              "    <tr>\n",
              "      <th>24</th>\n",
              "      <td>KaRinChuLove</td>\n",
              "      <td></td>\n",
              "      <td>@arslan_hidayat This is hell😢 #HongKong is goi...</td>\n",
              "      <td>en</td>\n",
              "      <td>1</td>\n",
              "      <td>0</td>\n",
              "      <td>2019-10-18 00:31:01</td>\n",
              "    </tr>\n",
              "    <tr>\n",
              "      <th>25</th>\n",
              "      <td>HongKong_Yutaka</td>\n",
              "      <td>天国</td>\n",
              "      <td>僕の馬主の社台レースホースは日本でとても有名だよね！</td>\n",
              "      <td>ja</td>\n",
              "      <td>0</td>\n",
              "      <td>0</td>\n",
              "      <td>2019-10-18 00:30:57</td>\n",
              "    </tr>\n",
              "    <tr>\n",
              "      <th>26</th>\n",
              "      <td>TXingh</td>\n",
              "      <td>Getting the coordinates</td>\n",
              "      <td>Sights of #Hongkong\\n\\nTerrace garden and a ba...</td>\n",
              "      <td>en</td>\n",
              "      <td>0</td>\n",
              "      <td>0</td>\n",
              "      <td>2019-10-18 00:30:49</td>\n",
              "    </tr>\n",
              "    <tr>\n",
              "      <th>27</th>\n",
              "      <td>AlufStone</td>\n",
              "      <td>Melilla, España</td>\n",
              "      <td>La oposición bloquea el discurso de #Lam sobre...</td>\n",
              "      <td>es</td>\n",
              "      <td>0</td>\n",
              "      <td>0</td>\n",
              "      <td>2019-10-18 00:30:47</td>\n",
              "    </tr>\n",
              "    <tr>\n",
              "      <th>28</th>\n",
              "      <td>waynemusiker</td>\n",
              "      <td>Los Angeles:Fullerton, CA, USA</td>\n",
              "      <td>Here's my musical tribute to #HongKong and pla...</td>\n",
              "      <td>en</td>\n",
              "      <td>0</td>\n",
              "      <td>0</td>\n",
              "      <td>2019-10-18 00:30:08</td>\n",
              "    </tr>\n",
              "    <tr>\n",
              "      <th>29</th>\n",
              "      <td>geedee14916630</td>\n",
              "      <td></td>\n",
              "      <td>All ethnic minorities in Hongkong do not allow...</td>\n",
              "      <td>en</td>\n",
              "      <td>0</td>\n",
              "      <td>1</td>\n",
              "      <td>2019-10-18 00:30:07</td>\n",
              "    </tr>\n",
              "    <tr>\n",
              "      <th>...</th>\n",
              "      <td>...</td>\n",
              "      <td>...</td>\n",
              "      <td>...</td>\n",
              "      <td>...</td>\n",
              "      <td>...</td>\n",
              "      <td>...</td>\n",
              "      <td>...</td>\n",
              "    </tr>\n",
              "    <tr>\n",
              "      <th>1970</th>\n",
              "      <td>DanRDimicco</td>\n",
              "      <td>Charlotte, NC</td>\n",
              "      <td>#China Plays Hardball Over #HongKong Unrest | ...</td>\n",
              "      <td>en</td>\n",
              "      <td>17</td>\n",
              "      <td>12</td>\n",
              "      <td>2019-10-17 16:02:32</td>\n",
              "    </tr>\n",
              "    <tr>\n",
              "      <th>1971</th>\n",
              "      <td>MvpTogel</td>\n",
              "      <td>Kota Surabaya, Jawa Timur</td>\n",
              "      <td>Member Setia MVPtogel, Result Togel HONGKONG (...</td>\n",
              "      <td>in</td>\n",
              "      <td>0</td>\n",
              "      <td>0</td>\n",
              "      <td>2019-10-17 16:02:30</td>\n",
              "    </tr>\n",
              "    <tr>\n",
              "      <th>1972</th>\n",
              "      <td>totobet12</td>\n",
              "      <td></td>\n",
              "      <td>Selamat Malam\\nHasil Livedraw untuk pasaran Ho...</td>\n",
              "      <td>in</td>\n",
              "      <td>0</td>\n",
              "      <td>0</td>\n",
              "      <td>2019-10-17 16:02:29</td>\n",
              "    </tr>\n",
              "    <tr>\n",
              "      <th>1973</th>\n",
              "      <td>brotogel</td>\n",
              "      <td>Indonesia</td>\n",
              "      <td>Selamat Malam Bro.\\nBerikut adalah Hasil kelua...</td>\n",
              "      <td>in</td>\n",
              "      <td>0</td>\n",
              "      <td>0</td>\n",
              "      <td>2019-10-17 16:02:26</td>\n",
              "    </tr>\n",
              "    <tr>\n",
              "      <th>1974</th>\n",
              "      <td>RAJATOTO31</td>\n",
              "      <td></td>\n",
              "      <td>Result 🇭🇰 Hongkong \\nKamis, 17 Oktober 2019\\n\\...</td>\n",
              "      <td>in</td>\n",
              "      <td>0</td>\n",
              "      <td>0</td>\n",
              "      <td>2019-10-17 16:02:24</td>\n",
              "    </tr>\n",
              "    <tr>\n",
              "      <th>1975</th>\n",
              "      <td>OkTogel</td>\n",
              "      <td>Bandung, Indonesia</td>\n",
              "      <td>Hasil Togel HONGKONG 6720 (HKYO) 17 Oktober 20...</td>\n",
              "      <td>in</td>\n",
              "      <td>0</td>\n",
              "      <td>0</td>\n",
              "      <td>2019-10-17 16:02:21</td>\n",
              "    </tr>\n",
              "    <tr>\n",
              "      <th>1976</th>\n",
              "      <td>salamjptgl</td>\n",
              "      <td>Jakarta Capital Region</td>\n",
              "      <td>Result Hongkong Pools, 17-Oktober-2019 (Kamis)...</td>\n",
              "      <td>in</td>\n",
              "      <td>0</td>\n",
              "      <td>0</td>\n",
              "      <td>2019-10-17 16:02:19</td>\n",
              "    </tr>\n",
              "    <tr>\n",
              "      <th>1977</th>\n",
              "      <td>DjTogel</td>\n",
              "      <td>Kota Surabaya, Jawa Timur</td>\n",
              "      <td>Result HONGKONG 17 Oktober 2019 Periode 443 - ...</td>\n",
              "      <td>in</td>\n",
              "      <td>0</td>\n",
              "      <td>0</td>\n",
              "      <td>2019-10-17 16:02:18</td>\n",
              "    </tr>\n",
              "    <tr>\n",
              "      <th>1978</th>\n",
              "      <td>eyangtogel2</td>\n",
              "      <td></td>\n",
              "      <td>Result Pasaran Hongkong Hari ini adalah : 6720...</td>\n",
              "      <td>in</td>\n",
              "      <td>0</td>\n",
              "      <td>0</td>\n",
              "      <td>2019-10-17 16:02:17</td>\n",
              "    </tr>\n",
              "    <tr>\n",
              "      <th>1979</th>\n",
              "      <td>jayatogel</td>\n",
              "      <td></td>\n",
              "      <td>Hasil pengeluaran nomor pasaran Hongkong (HK) ...</td>\n",
              "      <td>in</td>\n",
              "      <td>0</td>\n",
              "      <td>0</td>\n",
              "      <td>2019-10-17 16:02:16</td>\n",
              "    </tr>\n",
              "    <tr>\n",
              "      <th>1980</th>\n",
              "      <td>brovegas3</td>\n",
              "      <td></td>\n",
              "      <td>Hasil live draw Hongkong pada 17 Oktober 2019\\...</td>\n",
              "      <td>in</td>\n",
              "      <td>0</td>\n",
              "      <td>0</td>\n",
              "      <td>2019-10-17 16:02:15</td>\n",
              "    </tr>\n",
              "    <tr>\n",
              "      <th>1981</th>\n",
              "      <td>afapoker</td>\n",
              "      <td></td>\n",
              "      <td>Afa Mania, Angka yang naik untuk pasaran Hongk...</td>\n",
              "      <td>in</td>\n",
              "      <td>0</td>\n",
              "      <td>0</td>\n",
              "      <td>2019-10-17 16:02:14</td>\n",
              "    </tr>\n",
              "    <tr>\n",
              "      <th>1982</th>\n",
              "      <td>legototo2</td>\n",
              "      <td>indonesia</td>\n",
              "      <td>Result HONGKONG tanggal 17 Oktober 2019\\nResul...</td>\n",
              "      <td>in</td>\n",
              "      <td>0</td>\n",
              "      <td>0</td>\n",
              "      <td>2019-10-17 16:02:14</td>\n",
              "    </tr>\n",
              "    <tr>\n",
              "      <th>1983</th>\n",
              "      <td>rgotogel</td>\n",
              "      <td>Indonesia</td>\n",
              "      <td>Result Pasaran Hongkong Tanggal 17 Oktober 201...</td>\n",
              "      <td>in</td>\n",
              "      <td>0</td>\n",
              "      <td>0</td>\n",
              "      <td>2019-10-17 16:02:13</td>\n",
              "    </tr>\n",
              "    <tr>\n",
              "      <th>1984</th>\n",
              "      <td>HBertapa</td>\n",
              "      <td>Jakarta Capital Region</td>\n",
              "      <td>Result Hasil Keluaran Togel Hongkong Kamis 17 ...</td>\n",
              "      <td>in</td>\n",
              "      <td>0</td>\n",
              "      <td>0</td>\n",
              "      <td>2019-10-17 16:02:12</td>\n",
              "    </tr>\n",
              "    <tr>\n",
              "      <th>1985</th>\n",
              "      <td>gitartogel</td>\n",
              "      <td>Indonesia</td>\n",
              "      <td>Selamat Malam.. Kami Informasikan Result Pasar...</td>\n",
              "      <td>in</td>\n",
              "      <td>0</td>\n",
              "      <td>0</td>\n",
              "      <td>2019-10-17 16:02:09</td>\n",
              "    </tr>\n",
              "    <tr>\n",
              "      <th>1986</th>\n",
              "      <td>pokerboyaindo</td>\n",
              "      <td></td>\n",
              "      <td>Sahabat Boya, Angka Result Pasaran Hongkong ha...</td>\n",
              "      <td>in</td>\n",
              "      <td>0</td>\n",
              "      <td>0</td>\n",
              "      <td>2019-10-17 16:02:07</td>\n",
              "    </tr>\n",
              "    <tr>\n",
              "      <th>1987</th>\n",
              "      <td>Sepakbolacc</td>\n",
              "      <td>Indonesia</td>\n",
              "      <td>Hasil Pengeluaran Nomor Pasaran Hongkong\\nHari...</td>\n",
              "      <td>in</td>\n",
              "      <td>0</td>\n",
              "      <td>0</td>\n",
              "      <td>2019-10-17 16:02:05</td>\n",
              "    </tr>\n",
              "    <tr>\n",
              "      <th>1988</th>\n",
              "      <td>8togel</td>\n",
              "      <td></td>\n",
              "      <td>Result nomor pasaran Hongkong hari ini adalah\\...</td>\n",
              "      <td>in</td>\n",
              "      <td>0</td>\n",
              "      <td>0</td>\n",
              "      <td>2019-10-17 16:02:02</td>\n",
              "    </tr>\n",
              "    <tr>\n",
              "      <th>1989</th>\n",
              "      <td>jokerbet2</td>\n",
              "      <td>Indonesia</td>\n",
              "      <td>Pasaran Hongkong 17 Oktober 2019\\nResult : 672...</td>\n",
              "      <td>in</td>\n",
              "      <td>0</td>\n",
              "      <td>0</td>\n",
              "      <td>2019-10-17 16:02:01</td>\n",
              "    </tr>\n",
              "    <tr>\n",
              "      <th>1990</th>\n",
              "      <td>WigoBet</td>\n",
              "      <td>Indonesia</td>\n",
              "      <td>Hasil Putaran Hongkong ( HK ) Hari ini adalah\\...</td>\n",
              "      <td>in</td>\n",
              "      <td>0</td>\n",
              "      <td>0</td>\n",
              "      <td>2019-10-17 16:02:01</td>\n",
              "    </tr>\n",
              "    <tr>\n",
              "      <th>1991</th>\n",
              "      <td>analisatt88</td>\n",
              "      <td></td>\n",
              "      <td>Result putaran Hongkong untuk 17 Oktober 2019 ...</td>\n",
              "      <td>in</td>\n",
              "      <td>0</td>\n",
              "      <td>0</td>\n",
              "      <td>2019-10-17 16:01:59</td>\n",
              "    </tr>\n",
              "    <tr>\n",
              "      <th>1992</th>\n",
              "      <td>BATIKPOKER</td>\n",
              "      <td>Indonesia</td>\n",
              "      <td>Hasil untuk pasaran HONGKONG hari ini adalah :...</td>\n",
              "      <td>in</td>\n",
              "      <td>0</td>\n",
              "      <td>0</td>\n",
              "      <td>2019-10-17 16:01:58</td>\n",
              "    </tr>\n",
              "    <tr>\n",
              "      <th>1993</th>\n",
              "      <td>afatogel</td>\n",
              "      <td></td>\n",
              "      <td>Pasaran Hongkong 17 Oktober 2019\\nResult : 672...</td>\n",
              "      <td>in</td>\n",
              "      <td>0</td>\n",
              "      <td>0</td>\n",
              "      <td>2019-10-17 16:01:57</td>\n",
              "    </tr>\n",
              "    <tr>\n",
              "      <th>1994</th>\n",
              "      <td>GITARPOKER</td>\n",
              "      <td>Indonesia</td>\n",
              "      <td>Hasil Putaran Hongkong ( HK ) Hari ini adalah\\...</td>\n",
              "      <td>in</td>\n",
              "      <td>0</td>\n",
              "      <td>0</td>\n",
              "      <td>2019-10-17 16:01:56</td>\n",
              "    </tr>\n",
              "    <tr>\n",
              "      <th>1995</th>\n",
              "      <td>OfficialRGObet</td>\n",
              "      <td>Indonesia</td>\n",
              "      <td>Hasil keluar angka Pasaran Hongkong Hari ini a...</td>\n",
              "      <td>in</td>\n",
              "      <td>0</td>\n",
              "      <td>0</td>\n",
              "      <td>2019-10-17 16:01:56</td>\n",
              "    </tr>\n",
              "    <tr>\n",
              "      <th>1996</th>\n",
              "      <td>EYANGPOKER</td>\n",
              "      <td>Indonesia</td>\n",
              "      <td>Hasil Pengeluaran Nomor Pasaran Hongkong\\nHari...</td>\n",
              "      <td>in</td>\n",
              "      <td>0</td>\n",
              "      <td>0</td>\n",
              "      <td>2019-10-17 16:01:55</td>\n",
              "    </tr>\n",
              "    <tr>\n",
              "      <th>1997</th>\n",
              "      <td>JAYA_POKER</td>\n",
              "      <td>Indonesia</td>\n",
              "      <td>Hasil untuk pasaran HONGKONG hari ini adalah :...</td>\n",
              "      <td>in</td>\n",
              "      <td>0</td>\n",
              "      <td>0</td>\n",
              "      <td>2019-10-17 16:01:54</td>\n",
              "    </tr>\n",
              "    <tr>\n",
              "      <th>1998</th>\n",
              "      <td>togelmandiri881</td>\n",
              "      <td>Indonesia</td>\n",
              "      <td>Result Pasaran Hongkong tanggal 17/10/2019\\nAn...</td>\n",
              "      <td>in</td>\n",
              "      <td>0</td>\n",
              "      <td>0</td>\n",
              "      <td>2019-10-17 16:01:52</td>\n",
              "    </tr>\n",
              "    <tr>\n",
              "      <th>1999</th>\n",
              "      <td>AutoTogel</td>\n",
              "      <td>Medan Kota, Indonesia</td>\n",
              "      <td>Togelmania, Hasil Result HONGKONG (HOAW) Hari ...</td>\n",
              "      <td>in</td>\n",
              "      <td>1</td>\n",
              "      <td>0</td>\n",
              "      <td>2019-10-17 16:01:51</td>\n",
              "    </tr>\n",
              "  </tbody>\n",
              "</table>\n",
              "<p>2000 rows × 7 columns</p>\n",
              "</div>"
            ],
            "text/plain": [
              "                 user  ...          created_at\n",
              "0              Hei0v0  ... 2019-10-18 00:36:47\n",
              "1     WinChan05999504  ... 2019-10-18 00:36:44\n",
              "2     muimui_hongkong  ... 2019-10-18 00:36:16\n",
              "3        lia286848909  ... 2019-10-18 00:36:15\n",
              "4         canativeobt  ... 2019-10-18 00:35:55\n",
              "5          SiddLively  ... 2019-10-18 00:35:44\n",
              "6             aprilwg  ... 2019-10-18 00:35:20\n",
              "7     k0kOT9lIijVx3GF  ... 2019-10-18 00:35:11\n",
              "8             Zzchuja  ... 2019-10-18 00:34:51\n",
              "9          SPICCA0911  ... 2019-10-18 00:34:32\n",
              "10           HBertapa  ... 2019-10-18 00:34:16\n",
              "11            SOSHK13  ... 2019-10-18 00:33:43\n",
              "12     RizoTMessenger  ... 2019-10-18 00:33:26\n",
              "13    Whitley70651523  ... 2019-10-18 00:33:25\n",
              "14             GmHens  ... 2019-10-18 00:33:13\n",
              "15     RizoTMessenger  ... 2019-10-18 00:33:13\n",
              "16         icecapboy1  ... 2019-10-18 00:33:09\n",
              "17        MarkAYNunez  ... 2019-10-18 00:32:56\n",
              "18        MsAnitaLove  ... 2019-10-18 00:32:49\n",
              "19        hkerhkconst  ... 2019-10-18 00:32:20\n",
              "20          kidwonghk  ... 2019-10-18 00:31:38\n",
              "21       Tony54971329  ... 2019-10-18 00:31:30\n",
              "22             oranj2  ... 2019-10-18 00:31:24\n",
              "23      emilyswemily1  ... 2019-10-18 00:31:15\n",
              "24       KaRinChuLove  ... 2019-10-18 00:31:01\n",
              "25    HongKong_Yutaka  ... 2019-10-18 00:30:57\n",
              "26             TXingh  ... 2019-10-18 00:30:49\n",
              "27          AlufStone  ... 2019-10-18 00:30:47\n",
              "28       waynemusiker  ... 2019-10-18 00:30:08\n",
              "29     geedee14916630  ... 2019-10-18 00:30:07\n",
              "...               ...  ...                 ...\n",
              "1970      DanRDimicco  ... 2019-10-17 16:02:32\n",
              "1971         MvpTogel  ... 2019-10-17 16:02:30\n",
              "1972        totobet12  ... 2019-10-17 16:02:29\n",
              "1973         brotogel  ... 2019-10-17 16:02:26\n",
              "1974       RAJATOTO31  ... 2019-10-17 16:02:24\n",
              "1975          OkTogel  ... 2019-10-17 16:02:21\n",
              "1976       salamjptgl  ... 2019-10-17 16:02:19\n",
              "1977          DjTogel  ... 2019-10-17 16:02:18\n",
              "1978      eyangtogel2  ... 2019-10-17 16:02:17\n",
              "1979        jayatogel  ... 2019-10-17 16:02:16\n",
              "1980        brovegas3  ... 2019-10-17 16:02:15\n",
              "1981         afapoker  ... 2019-10-17 16:02:14\n",
              "1982        legototo2  ... 2019-10-17 16:02:14\n",
              "1983         rgotogel  ... 2019-10-17 16:02:13\n",
              "1984         HBertapa  ... 2019-10-17 16:02:12\n",
              "1985       gitartogel  ... 2019-10-17 16:02:09\n",
              "1986    pokerboyaindo  ... 2019-10-17 16:02:07\n",
              "1987      Sepakbolacc  ... 2019-10-17 16:02:05\n",
              "1988           8togel  ... 2019-10-17 16:02:02\n",
              "1989        jokerbet2  ... 2019-10-17 16:02:01\n",
              "1990          WigoBet  ... 2019-10-17 16:02:01\n",
              "1991      analisatt88  ... 2019-10-17 16:01:59\n",
              "1992       BATIKPOKER  ... 2019-10-17 16:01:58\n",
              "1993         afatogel  ... 2019-10-17 16:01:57\n",
              "1994       GITARPOKER  ... 2019-10-17 16:01:56\n",
              "1995   OfficialRGObet  ... 2019-10-17 16:01:56\n",
              "1996       EYANGPOKER  ... 2019-10-17 16:01:55\n",
              "1997       JAYA_POKER  ... 2019-10-17 16:01:54\n",
              "1998  togelmandiri881  ... 2019-10-17 16:01:52\n",
              "1999        AutoTogel  ... 2019-10-17 16:01:51\n",
              "\n",
              "[2000 rows x 7 columns]"
            ]
          },
          "metadata": {
            "tags": []
          },
          "execution_count": 100
        }
      ]
    },
    {
      "cell_type": "markdown",
      "metadata": {
        "id": "wCnngeG_Qawy",
        "colab_type": "text"
      },
      "source": [
        "##Export a csv to drive or on local"
      ]
    },
    {
      "cell_type": "code",
      "metadata": {
        "id": "Lmo5-TJ8M7RZ",
        "colab_type": "code",
        "colab": {}
      },
      "source": [
        "# to export from google collab :\n",
        "from google.colab import files\n",
        "\n",
        "#add datetime to filename\n",
        "import time\n",
        "date = time.strftime(\"%d-%m-%Y__%H:%M:%S\")\n",
        "savename = \"df_tweets_\"+date+\".csv\" \n",
        "\n"
      ],
      "execution_count": 0,
      "outputs": []
    },
    {
      "cell_type": "markdown",
      "metadata": {
        "id": "zog8IzuYRM5Z",
        "colab_type": "text"
      },
      "source": [
        "### sur le drive "
      ]
    },
    {
      "cell_type": "markdown",
      "metadata": {
        "id": "jvqa6QNsRUoD",
        "colab_type": "text"
      },
      "source": [
        "Follow these steps to do save on the drive :\n",
        "\n",
        "\n",
        "1. We need to setup our drive first, run this :\n"
      ]
    },
    {
      "cell_type": "code",
      "metadata": {
        "id": "75vOR1vrRTzV",
        "colab_type": "code",
        "colab": {
          "base_uri": "https://localhost:8080/",
          "height": 34
        },
        "outputId": "cab98e7e-c3c1-4b6c-87e2-824e6834bb2d"
      },
      "source": [
        "#need to do this only once\n",
        "from google.colab import drive\n",
        "drive.mount('/content/gdrive/')"
      ],
      "execution_count": 187,
      "outputs": [
        {
          "output_type": "stream",
          "text": [
            "Drive already mounted at /content/gdrive/; to attempt to forcibly remount, call drive.mount(\"/content/gdrive/\", force_remount=True).\n"
          ],
          "name": "stdout"
        }
      ]
    },
    {
      "cell_type": "markdown",
      "metadata": {
        "colab_type": "text",
        "id": "xTELXHp3S_3U"
      },
      "source": [
        "\n",
        "2.   Click on the URL, choose which account you're workin on, and copy paste the link in the box. You should get something like this :\n",
        "![](https://miro.medium.com/max/2234/1*ZpgiKaB2RSo_nTAvo9QNbg.png)\n",
        "\n",
        "\n",
        "3. [optionnal] You could naviguate to your folder and see what you have in your drive, here we want to go there. Useful when you want to define path variable :\n",
        "\n"
      ]
    },
    {
      "cell_type": "code",
      "metadata": {
        "id": "IWXSQ0RERNjD",
        "colab_type": "code",
        "colab": {
          "base_uri": "https://localhost:8080/",
          "height": 34
        },
        "outputId": "1d80035e-4ce2-4ad0-cd33-d949e847a8d2"
      },
      "source": [
        "!ls /content/gdrive/Shared\\ drives/PFE_ING3_ESTIA/data"
      ],
      "execution_count": 188,
      "outputs": [
        {
          "output_type": "stream",
          "text": [
            "df_tweets_18-10-2019.csv  df_tweets.csv  df_tweets_rouen_fire.csv\n"
          ],
          "name": "stdout"
        }
      ]
    },
    {
      "cell_type": "markdown",
      "metadata": {
        "id": "6sxnHaxxTcS6",
        "colab_type": "text"
      },
      "source": [
        "4. Setup done! We need to save our model in GDrive :"
      ]
    },
    {
      "cell_type": "code",
      "metadata": {
        "id": "MnJT8jrgYa-j",
        "colab_type": "code",
        "colab": {
          "base_uri": "https://localhost:8080/",
          "height": 52
        },
        "outputId": "1cb3515b-8795-4214-f74f-03dcf3c85a14"
      },
      "source": [
        "print(\"savename : \",savename,\"\\n\",\"path : \",path)"
      ],
      "execution_count": 210,
      "outputs": [
        {
          "output_type": "stream",
          "text": [
            "savename :  df_tweets_18-10-2019__02:23:32.csv \n",
            " path :  /content/gdrive/Shared drives/\n"
          ],
          "name": "stdout"
        }
      ]
    },
    {
      "cell_type": "code",
      "metadata": {
        "id": "3HUiFXu4TlEJ",
        "colab_type": "code",
        "colab": {}
      },
      "source": [
        "df_tweets.to_csv(savename)\n",
        "\n",
        "# copy paste savename and path printed below\n",
        "#!cp savename path\n",
        "\n",
        "#work but nor adaptative (ex : CRON ...) \n",
        "!cp df_tweets_18-10-2019__02:23:32.csv /content/gdrive/Shared\\ drives/PFE_ING3_ESTIA/data\n",
        "\n",
        "#good for cron extract but need to work on shared drives\n",
        "# import shutil\n",
        "# path = \"/content/gdrive/Shared drives/\"\n",
        "# shutil.copy(savename, path)\n"
      ],
      "execution_count": 0,
      "outputs": []
    },
    {
      "cell_type": "code",
      "metadata": {
        "id": "cBa6eTNBhHp_",
        "colab_type": "code",
        "colab": {
          "base_uri": "https://localhost:8080/",
          "height": 52
        },
        "outputId": "7d012781-cbac-4d97-ebbc-9d030ad07c2a"
      },
      "source": [
        "!ls /content/gdrive/Shared\\ drives/PFE_ING3_ESTIA/data"
      ],
      "execution_count": 215,
      "outputs": [
        {
          "output_type": "stream",
          "text": [
            "df_tweets_18-10-2019__02:23:32.csv  df_tweets.csv\n",
            "df_tweets_18-10-2019.csv\t    df_tweets_rouen_fire.csv\n"
          ],
          "name": "stdout"
        }
      ]
    },
    {
      "cell_type": "code",
      "metadata": {
        "id": "0zEMMW8bhHkl",
        "colab_type": "code",
        "colab": {
          "base_uri": "https://localhost:8080/",
          "height": 34
        },
        "outputId": "d600df6e-1367-42cc-9553-7c6a25ead1db"
      },
      "source": [
        "!pwd"
      ],
      "execution_count": 199,
      "outputs": [
        {
          "output_type": "stream",
          "text": [
            "/content\n"
          ],
          "name": "stdout"
        }
      ]
    },
    {
      "cell_type": "markdown",
      "metadata": {
        "id": "dMhsPFfvQ5Nr",
        "colab_type": "text"
      },
      "source": [
        "### en local\n",
        "\n",
        "\n"
      ]
    },
    {
      "cell_type": "markdown",
      "metadata": {
        "id": "Nuhwucd8S75Y",
        "colab_type": "text"
      },
      "source": [
        ""
      ]
    },
    {
      "cell_type": "code",
      "metadata": {
        "id": "C_16QROCTTKJ",
        "colab_type": "code",
        "colab": {}
      },
      "source": [
        "df_tweets.to_csv(savename)\n",
        "files.download(savename)"
      ],
      "execution_count": 0,
      "outputs": []
    },
    {
      "cell_type": "code",
      "metadata": {
        "id": "gSaGwd_MRQje",
        "colab_type": "code",
        "colab": {}
      },
      "source": [
        ""
      ],
      "execution_count": 0,
      "outputs": []
    }
  ]
}