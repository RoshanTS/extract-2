{
  "nbformat": 4,
  "nbformat_minor": 0,
  "metadata": {
    "colab": {
      "name": "extraction données via api twitter.ipynb",
      "provenance": [],
      "collapsed_sections": [],
      "include_colab_link": true
    },
    "kernelspec": {
      "name": "python3",
      "display_name": "Python 3"
    }
  },
  "cells": [
    {
      "cell_type": "markdown",
      "metadata": {
        "id": "view-in-github",
        "colab_type": "text"
      },
      "source": [
        "<a href=\"https://colab.research.google.com/github/RoshanTS/pfe-estia/blob/extract_twitter_script/extraction_donn%C3%A9es_via_api_twitter.ipynb\" target=\"_parent\"><img src=\"https://colab.research.google.com/assets/colab-badge.svg\" alt=\"Open In Colab\"/></a>"
      ]
    },
    {
      "cell_type": "markdown",
      "metadata": {
        "id": "1FReQ3DBqtmR",
        "colab_type": "text"
      },
      "source": [
        "# Script d'extraction de données twitter"
      ]
    },
    {
      "cell_type": "markdown",
      "metadata": {
        "id": "IjEdooQfqt1f",
        "colab_type": "text"
      },
      "source": [
        "##Importations of Python modules"
      ]
    },
    {
      "cell_type": "markdown",
      "metadata": {
        "id": "mD4B1uAQuqXt",
        "colab_type": "text"
      },
      "source": [
        "We import the following libraries :\n",
        "\n",
        "*   [tweepy](https://docs.tweepy.org/en/latest/) :  python client for the official [Twitter API](https://developer.twitter.com/en.html) \n",
        "*   [textblob](https://docs.tweepy.org/en/latest/) : python library for processing textual data\n",
        "*  [os](https://docs.python.org/fr/2.7/library/os.html)\n",
        " : contient diverses fonctions pour gérer l'os\n",
        "\n",
        "* [pandas](https://pandas.pydata.org/pandas-docs/version/0.25/) : python library for data analysis\n",
        "\n",
        "* [re](https://docs.python.org/3/library/re.html) : python library for regular expressions\n",
        "\n",
        "* [nltk](https://www.nltk.org/) : python library to do things like   tokenization, stemming, .."
      ]
    },
    {
      "cell_type": "code",
      "metadata": {
        "id": "_gpWc4d-tjwN",
        "colab_type": "code",
        "colab": {}
      },
      "source": [
        "import tweepy \n",
        "import textblob\n",
        "import os\n",
        "import pandas\n",
        "import re\n",
        "import nltk\n"
      ],
      "execution_count": 0,
      "outputs": []
    },
    {
      "cell_type": "markdown",
      "metadata": {
        "id": "c5M6MSXXzndO",
        "colab_type": "text"
      },
      "source": [
        "We're going to use [OAuthHandler](http://docs.tweepy.org/en/v3.5.0/auth_tutorial.html) to deal with authentification :\n"
      ]
    },
    {
      "cell_type": "code",
      "metadata": {
        "id": "usQ4wRGvxFS8",
        "colab_type": "code",
        "colab": {}
      },
      "source": [
        "from tweepy import OAuthHandler \n",
        "from textblob import TextBlob "
      ],
      "execution_count": 0,
      "outputs": []
    },
    {
      "cell_type": "markdown",
      "metadata": {
        "id": "6XVoyEq5qt9N",
        "colab_type": "text"
      },
      "source": [
        "We define a classe Twitter client :"
      ]
    },
    {
      "cell_type": "code",
      "metadata": {
        "id": "JjUyj5Hv3sN2",
        "colab_type": "code",
        "colab": {
          "base_uri": "https://localhost:8080/",
          "height": 901
        },
        "outputId": "81cadead-ed6d-4677-c8a3-e8e80312c8ce"
      },
      "source": [
        "class TwitterClient(object): \n",
        "\t''' \n",
        "\tGeneric Twitter Class for sentiment analysis. \n",
        "\t'''\n",
        "\tdef __init__(self): \n",
        "\t\t''' \n",
        "\t\tClass constructor or initialization method. \n",
        "\t\t'''\n",
        "\t\t# keys and tokens from the Twitter Dev Console \n",
        "\t\tconsumer_key = 'MlbpfXnAwJeQzQlRYK0dKJ6nB'\n",
        "\t\tconsumer_secret = 'cTZLfoM7xOHpFjSfzUW0Ff0AsKPNsqEOhjMNiMbNW6Eg0NZpWr'\n",
        "\t\taccess_token = '1179886074614689793-VLHbcHpSJoXkml9wVMqd9gIcSs4zMS'\n",
        "\t\taccess_token_secret = 'Vnpf7cZp2uIUsdDDV6egSHdxDQXyCHf7INdKVa8Uqs2H4'\n",
        "\n",
        "\t\t# attempt authentication \n",
        "\t\ttry: \n",
        "\t\t\t# create OAuthHandler object \n",
        "\t\t\tself.auth = OAuthHandler(consumer_key, consumer_secret) \n",
        "\t\t\t# set access token and secret \n",
        "\t\t\tself.auth.set_access_token(access_token, access_token_secret) \n",
        "\t\t\t# create tweepy API object to fetch tweets \n",
        "\t\t\tself.api = tweepy.API(self.auth) \n",
        "\t\texcept: \n",
        "\t\t\tprint(\"Error: Authentication Failed\") \n",
        "\n",
        "\tdef clean_tweet(self, tweet): \n",
        "\t\t''' \n",
        "\t\tUtility function to clean tweet text by removing links, special characters \n",
        "\t\tusing simple regex statements. \n",
        "\t\t'''\n",
        "\t\treturn ' '.join(re.sub(\"(@[A-Za-z0-9]+)|([^0-9A-Za-z \\t])|(\\w+:\\/\\/\\S+)\", \" \", tweet).split()) \n",
        "\n",
        "\tdef get_tweet_sentiment(self, tweet): \n",
        "\t\t''' \n",
        "\t\tUtility function to classify sentiment of passed tweet \n",
        "\t\tusing textblob's sentiment method \n",
        "\t\t'''\n",
        "\t\t# create TextBlob object of passed tweet text \n",
        "\t\tanalysis = TextBlob(self.clean_tweet(tweet)) \n",
        "\t\t# set sentiment \n",
        "\t\tif analysis.sentiment.polarity > 0: \n",
        "\t\t\treturn 'positive'\n",
        "\t\telif analysis.sentiment.polarity == 0: \n",
        "\t\t\treturn 'neutral'\n",
        "\t\telse: \n",
        "\t\t\treturn 'negative'\n",
        "\n",
        "\tdef get_tweets(self, query, count = 10): \n",
        "\t\t''' \n",
        "\t\tMain function to fetch tweets and parse them. \n",
        "\t\t'''\n",
        "\t\t# empty list to store parsed tweets \n",
        "\t\ttweets = [] \n",
        "\n",
        "\t\ttry: \n",
        "\t\t\t# call twitter api to fetch tweets \n",
        "\t\t\tfetched_tweets = self.api.search(q = query, count = count) \n",
        "\n",
        "\t\t\t# parsing tweets one by one \n",
        "\t\t\tfor tweet in fetched_tweets: \n",
        "\t\t\t\t# empty dictionary to store required params of a tweet \n",
        "\t\t\t\tparsed_tweet = {} \n",
        "\n",
        "\t\t\t\t# saving text of tweet \n",
        "\t\t\t\tparsed_tweet['text'] = tweet.text \n",
        "\t\t\t\t# saving sentiment of tweet \n",
        "\t\t\t\tparsed_tweet['sentiment'] = self.get_tweet_sentiment(tweet.text) \n",
        "\n",
        "\t\t\t\t# appending parsed tweet to tweets list \n",
        "\t\t\t\tif tweet.retweet_count > 0: \n",
        "\t\t\t\t\t# if tweet has retweets, ensure that it is appended only once \n",
        "\t\t\t\t\tif parsed_tweet not in tweets: \n",
        "\t\t\t\t\t\ttweets.append(parsed_tweet) \n",
        "\t\t\t\telse: \n",
        "\t\t\t\t\ttweets.append(parsed_tweet) \n",
        "\n",
        "\t\t\t# return parsed tweets \n",
        "\t\t\treturn tweets \n",
        "\n",
        "\t\texcept tweepy.TweepError as e: \n",
        "\t\t\t# print error (if any) \n",
        "\t\t\tprint(\"Error : \" + str(e)) \n"
      ],
      "execution_count": 43,
      "outputs": [
        {
          "output_type": "stream",
          "text": [
            "Positive tweets percentage: 39.130434782608695 %\n",
            "Negative tweets percentage: 14.492753623188406 %\n",
            "\n",
            "\n",
            "Positive tweets:\n",
            "RT @joshuawongcf: Last week, the #HongKong Government invoked the Emergency Regulations Ordinance to outlaw face masks, curbing our right t…\n",
            "RT @Jay_Watt: Harry Harrison #cartoon in today's @SCMPNews pointing out the new normal for the #HongKong police: they absolutely will deman…\n",
            "RT @Stand_with_HK: How can the youth not be worried?\n",
            "\n",
            "We only see a breakdown in leadership, literally everywhere.\n",
            "\n",
            "And no one is brave eno…\n",
            "RT @mexsystem28: Imagine making a perfect representation of what the hongkong people are going through but not be willing to stand with the…\n",
            "RT @sankakucomplex: Top trending from Wednesday: Blizzard Banning Players Who Support Hong Kong - https://t.co/Z9viaE2yOz #Blizzard #HongKo…\n",
            "RT @German_Hermit: This is amazing \n",
            "\n",
            "Reddit changed Blizzards promo Trailer for Overwatch, to make the Chinese Character Support Hongkong,…\n",
            "RT @9GAG: Blizzard: Not us\n",
            "#HongKong \n",
            "-\n",
            "Original comic: @JakeClarkDude https://t.co/Kp9ACaz4c1\n",
            "RT @DaTechGuyblog: Tomorrow at https://t.co/caZnjIExMt  #china kindly teaches the @nba the difference between pretending to be living under…\n",
            "RT @Hahahah23921079: Scan the QR code or go to the website, you may know more about the situation in #hongkong about #hkpolice #Violence .…\n",
            "RT @jennfranconews: #NEW: Apple has removed an app that protestors in Hong Kong have used to track police movements, after drawing criticis…\n",
            "\n",
            "\n",
            "Negative tweets:\n",
            "RT @hayashikakeru: [1/3] Full Eng subtitled video of #CUHK student's tearful testimony abt horrific abuses by #Hongkong police against arre…\n",
            "RT @hayashikakeru: [3/3] Full Eng subtitled video of #CUHK student's tearful testimony abt horrific abuses by #Hongkong police against arre…\n",
            "RT @Woppa1Woppa: Chinese person rips up his paid for #NBA preseason tickets.  Looks like he had trouble ripping 3 pieces of paper lengthwis…\n",
            "@jackcha96509872 @Grummz This sounds terrible. Is this #china or #hongkong\n",
            "RT @goldenp11462989: 请战友们广传\n",
            "🙏🙏\n",
            "受到性侵女孩子勇敢的证词！\n",
            "Full Eng subtitled video of #CUHK student's tearful testimony abt horrific abuses by #Hongkong…\n",
            "disgusting https://t.co/MYc8TXXFQm\n",
            "\n",
            "https://t.co/gkyql61Qgk\n",
            "@HKNordicHearts @realDonaldTrump @SpeakerPelosi @marcorubio @SolomonYue Can't help thinking what this poor 15-year-… https://t.co/e0q1cBe7YE\n",
            "RT @badiucao: Portrait for #CUHK student's tearful testimony abt horrific abuses/sexual violence by #Hongkong police at #SanUkLing.\n",
            "Extreme…\n",
            "RT @Badcanto: The footage of Shatin Tsung Tsin Secondary School’s students singing “Glory to #Hongkong” and waving the American flag went v…\n",
            "Who 'killed' this girl?\n",
            "1989 again?\n",
            "\n",
            "#HongKongProtests\n",
            "#HongKong \n",
            "#chinazi https://t.co/m8JxAVkjIX\n"
          ],
          "name": "stdout"
        }
      ]
    },
    {
      "cell_type": "code",
      "metadata": {
        "id": "h5nJYyn47Ig0",
        "colab_type": "code",
        "colab": {}
      },
      "source": [
        "\n",
        "def main(query): \n",
        "\t# creating object of TwitterClient Class \n",
        "\tapi = TwitterClient() \n",
        "\t# calling function to get tweets \n",
        "\ttweets = api.get_tweets(query, count = 200) \n",
        "\n",
        "\t# picking positive tweets from tweets \n",
        "\tptweets = [tweet for tweet in tweets if tweet['sentiment'] == 'positive'] \n",
        "\t# percentage of positive tweets \n",
        "\tprint(\"Positive tweets percentage: {} %\".format(100*len(ptweets)/len(tweets))) \n",
        "\t# picking negative tweets from tweets \n",
        "\tntweets = [tweet for tweet in tweets if tweet['sentiment'] == 'negative'] \n",
        "\t# percentage of negative tweets \n",
        "\tprint(\"Negative tweets percentage: {} %\".format(100*len(ntweets)/len(tweets))) \n",
        "\t# percentage of neutral tweets \n",
        "#\tprint(\"Neutral tweets percentage: {} %\".format(100*len(tweets - ntweets - ptweets)/len(tweets))) \n",
        "\n",
        "\t# printing first 5 positive tweets \n",
        "\tprint(\"\\n\\nPositive tweets:\") \n",
        "\tfor tweet in ptweets[:10]: \n",
        "\t\tprint(tweet['text']) \n",
        "\n",
        "\t# printing first 5 negative tweets \n",
        "\tprint(\"\\n\\nNegative tweets:\") \n",
        "\tfor tweet in ntweets[:10]: \n",
        "\t\tprint(tweet['text']) \n"
      ],
      "execution_count": 0,
      "outputs": []
    },
    {
      "cell_type": "markdown",
      "metadata": {
        "id": "lH1vKVyg7XmK",
        "colab_type": "text"
      },
      "source": [
        "Analyse des tweets sur Hong kong"
      ]
    },
    {
      "cell_type": "code",
      "metadata": {
        "id": "v-XRd9Hj4Al9",
        "colab_type": "code",
        "colab": {
          "base_uri": "https://localhost:8080/",
          "height": 667
        },
        "outputId": "ea4a419c-085d-4c9e-9c81-265852caf182"
      },
      "source": [
        "\n",
        "if __name__ == \"__main__\": \n",
        "\t# calling main function \n",
        "\tmain('Hong kong') \n"
      ],
      "execution_count": 46,
      "outputs": [
        {
          "output_type": "stream",
          "text": [
            "Positive tweets percentage: 37.80487804878049 %\n",
            "Negative tweets percentage: 18.29268292682927 %\n",
            "\n",
            "\n",
            "Positive tweets:\n",
            "@OrangeGrove55 @v_jvee They banned a professional hearthstone player and took his winnings after he said “free Hong… https://t.co/PxASWBIBo2\n",
            "RT @Slasher: in tonight's Collegiate Hearthstone championship, American University held up a \"Free Hong Kong, boycott Blizzard\" during the…\n",
            "RT @gogowachs: Thanks to the @sixers for kicking me out of the game for supporting Hong Kong\n",
            "RT @Yuumei_Art: Blizzard banned pro Hearthstone winner for supporting free Hong Kong and took away his prize money. It would be SUCH A SHAM…\n",
            "FREE HONG KONG.\n",
            "\n",
            "I would like to start a crusade to take China but I know it won't go well\n",
            "RT @CompoundBoss: With all this news about the #HongKongProstests I feel I need to tell people something I heard many yrs ago.\n",
            "Apparently,…\n",
            "RT @annafifield: The Hong Kong Protests are Also a Fight for a Free Press: \n",
            "“Unlike most of the protesters, we’re looking to be in the wron…\n",
            "RT @StephenGutowski: @sixers Everyone should bring \"Free Hong Kong\" signs to @Sixers games this year. I'd like to see how many customers th…\n",
            "@Rendon63rd @Treerisu Thank you, Assembly Speaker Rendon. We appreciate your supportive message from California. It… https://t.co/Rg6nIFcSig\n",
            "RT @HawleyMO: So now fans supporting Hong Kong are being ejected from NBA games IN AMERICA? https://t.co/XaoYBWFGOU\n",
            "\n",
            "\n",
            "Negative tweets:\n",
            "RT @HashtagGriswold: Protesters outside of the Washington Wizards preseason game against the Guangzhou Long-Lions. Passing out free shirts…\n",
            "RT @EcoSenseNow: I know it’s not the player’s fault that Hong Kong is rebelling, but it’s pretty sick that they have lost their freedom to…\n",
            "RT @Audria64254694: Bullets and tear gas cans left behind by #hongkongpolice after dispersing protestors who took to the street in Hong Kon…\n",
            "RT @Gizmodo: Tim Cook explains why Apple sold out Hong Kong protestors, doubles down\n",
            "https://t.co/nLRjIw35yQ https://t.co/mCqelqIPzE\n",
            "RT @HKNordicHearts: A body fallen from a building. It has dried out with a leg severed. Witnesses reported suspected baton hit marks. Absen…\n",
            "RT @robo_friend: The worst part about all the corporations censoring themselves is that they could potentially make the biggest difference…\n",
            "RT @erinhale: Now Chinese state media says the Hong Kong protests are hate crimes and thus freedom of expression does not apply. https://t.…\n",
            "@boyamas @tinewk So sad. Hong Kong in #DarkAges \n",
            "@BBCWorld \n",
            "@CNN\n",
            "@WellsFargo just found out the Wells Fargo center kicked people out of a game bc they held signs in support of Hong… https://t.co/AJp7jrXVRi\n",
            "@AG_Conservative I hate our President and I align with progressives on a lot of issues, mainly healthcare and educa… https://t.co/Q9hjAeZaHc\n"
          ],
          "name": "stdout"
        }
      ]
    },
    {
      "cell_type": "code",
      "metadata": {
        "id": "vLqmQ70i7S3v",
        "colab_type": "code",
        "colab": {}
      },
      "source": [
        ""
      ],
      "execution_count": 0,
      "outputs": []
    }
  ]
}