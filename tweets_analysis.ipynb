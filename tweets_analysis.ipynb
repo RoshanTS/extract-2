{
  "nbformat": 4,
  "nbformat_minor": 0,
  "metadata": {
    "colab": {
      "name": "tweets_analysis.ipynb",
      "provenance": [],
      "collapsed_sections": [],
      "toc_visible": true,
      "include_colab_link": true
    },
    "kernelspec": {
      "name": "python3",
      "display_name": "Python 3"
    }
  },
  "cells": [
    {
      "cell_type": "markdown",
      "metadata": {
        "id": "view-in-github",
        "colab_type": "text"
      },
      "source": [
        "<a href=\"https://colab.research.google.com/github/RoshanTS/pfe-estia/blob/data_analysis/tweets_analysis.ipynb\" target=\"_parent\"><img src=\"https://colab.research.google.com/assets/colab-badge.svg\" alt=\"Open In Colab\"/></a>"
      ]
    },
    {
      "cell_type": "markdown",
      "metadata": {
        "id": "BaV12sZOARIh",
        "colab_type": "text"
      },
      "source": [
        "#Import de librairies"
      ]
    },
    {
      "cell_type": "code",
      "metadata": {
        "id": "gmB-ltKX3inq",
        "colab_type": "code",
        "colab": {}
      },
      "source": [
        "import pandas as pd\n",
        "import nltk\n",
        "import matplotlib.pyplot as plt\n",
        "from wordcloud import WordCloud, STOPWORDS\n",
        "\n",
        "\n",
        "from google.colab import drive"
      ],
      "execution_count": 0,
      "outputs": []
    },
    {
      "cell_type": "markdown",
      "metadata": {
        "id": "eSqlOu7IAh1e",
        "colab_type": "text"
      },
      "source": [
        "#Import de données"
      ]
    },
    {
      "cell_type": "code",
      "metadata": {
        "id": "9jqX4OEyDMdb",
        "colab_type": "code",
        "outputId": "2dd05cca-668a-4c43-9158-6ac2e78c99f5",
        "colab": {
          "base_uri": "https://localhost:8080/",
          "height": 91
        }
      },
      "source": [
        "\n",
        "drive.mount('/content/gdrive/')\n",
        "\n",
        "!ls /content/gdrive/Shared\\ drives/PFE_ING3_ESTIA/data/cleaned_data/hongkong"
      ],
      "execution_count": 8,
      "outputs": [
        {
          "output_type": "stream",
          "text": [
            "Drive already mounted at /content/gdrive/; to attempt to forcibly remount, call drive.mount(\"/content/gdrive/\", force_remount=True).\n",
            "'df_tweets_cleaned_en_24-10-2019__23:46:46 (1).csv'\n",
            " df_tweets_cleaned_en_24-10-2019__23:46:46.csv\n"
          ],
          "name": "stdout"
        }
      ]
    },
    {
      "cell_type": "code",
      "metadata": {
        "id": "j-RZoqjyDBBR",
        "colab_type": "code",
        "colab": {}
      },
      "source": [
        "data = pd.read_csv('/content/gdrive/Shared drives/PFE_ING3_ESTIA/data/cleaned_data/hongkong/df_tweets_cleaned_en_24-10-2019__23:46:46.csv')\n"
      ],
      "execution_count": 0,
      "outputs": []
    },
    {
      "cell_type": "code",
      "metadata": {
        "id": "C3A17g1GDFuz",
        "colab_type": "code",
        "outputId": "a329402d-8727-42f1-b33b-cd46fa172e72",
        "colab": {
          "base_uri": "https://localhost:8080/",
          "height": 1000
        }
      },
      "source": [
        "data"
      ],
      "execution_count": 20,
      "outputs": [
        {
          "output_type": "execute_result",
          "data": {
            "text/html": [
              "<div>\n",
              "<style scoped>\n",
              "    .dataframe tbody tr th:only-of-type {\n",
              "        vertical-align: middle;\n",
              "    }\n",
              "\n",
              "    .dataframe tbody tr th {\n",
              "        vertical-align: top;\n",
              "    }\n",
              "\n",
              "    .dataframe thead th {\n",
              "        text-align: right;\n",
              "    }\n",
              "</style>\n",
              "<table border=\"1\" class=\"dataframe\">\n",
              "  <thead>\n",
              "    <tr style=\"text-align: right;\">\n",
              "      <th></th>\n",
              "      <th>Unnamed: 0</th>\n",
              "      <th>user</th>\n",
              "      <th>tweet content</th>\n",
              "      <th>tweet_punct</th>\n",
              "      <th>tweet_tokenized</th>\n",
              "      <th>tweet_nonstop</th>\n",
              "      <th>tweet_stemmed</th>\n",
              "      <th>tweet_lemmatized</th>\n",
              "    </tr>\n",
              "  </thead>\n",
              "  <tbody>\n",
              "    <tr>\n",
              "      <th>0</th>\n",
              "      <td>0</td>\n",
              "      <td>globaltimesnews</td>\n",
              "      <td>#HongKong police arrested 13 people aged betwe...</td>\n",
              "      <td>HongKong police arrested  people aged between ...</td>\n",
              "      <td>['hongkong', 'police', 'arrested', 'people', '...</td>\n",
              "      <td>['hongkong', 'police', 'arrested', 'people', '...</td>\n",
              "      <td>['hongkong', 'polic', 'arrest', 'peopl', 'age'...</td>\n",
              "      <td>['hongkong', 'police', 'arrested', 'people', '...</td>\n",
              "    </tr>\n",
              "    <tr>\n",
              "      <th>1</th>\n",
              "      <td>1</td>\n",
              "      <td>PM_Thornton</td>\n",
              "      <td>BBC #HongKong: Hecklers dragged out in new par...</td>\n",
              "      <td>BBC HongKong Hecklers dragged out in new parli...</td>\n",
              "      <td>['bbc', 'hongkong', 'hecklers', 'dragged', 'ou...</td>\n",
              "      <td>['bbc', 'hongkong', 'hecklers', 'dragged', 'ne...</td>\n",
              "      <td>['bbc', 'hongkong', 'heckler', 'drag', 'new', ...</td>\n",
              "      <td>['bbc', 'hongkong', 'heckler', 'dragged', 'new...</td>\n",
              "    </tr>\n",
              "    <tr>\n",
              "      <th>2</th>\n",
              "      <td>2</td>\n",
              "      <td>globaltimesnews</td>\n",
              "      <td>#HongKong police have issued a notice of objec...</td>\n",
              "      <td>HongKong police have issued a notice of object...</td>\n",
              "      <td>['hongkong', 'police', 'have', 'issued', 'a', ...</td>\n",
              "      <td>['hongkong', 'police', 'issued', 'notice', 'ob...</td>\n",
              "      <td>['hongkong', 'polic', 'issu', 'notic', 'object...</td>\n",
              "      <td>['hongkong', 'police', 'issued', 'notice', 'ob...</td>\n",
              "    </tr>\n",
              "    <tr>\n",
              "      <th>3</th>\n",
              "      <td>3</td>\n",
              "      <td>HongKong</td>\n",
              "      <td>Temporary Relocation of GMB Stand on Sai Sha R...</td>\n",
              "      <td>Temporary Relocation of GMB Stand on Sai Sha R...</td>\n",
              "      <td>['temporary', 'relocation', 'of', 'gmb', 'stan...</td>\n",
              "      <td>['temporary', 'relocation', 'gmb', 'stand', 's...</td>\n",
              "      <td>['temporari', 'reloc', 'gmb', 'stand', 'sai', ...</td>\n",
              "      <td>['temporary', 'relocation', 'gmb', 'stand', 's...</td>\n",
              "    </tr>\n",
              "    <tr>\n",
              "      <th>4</th>\n",
              "      <td>4</td>\n",
              "      <td>HongKongFP</td>\n",
              "      <td>The Yuen Long District Council candidacy of ac...</td>\n",
              "      <td>The Yuen Long District Council candidacy of ac...</td>\n",
              "      <td>['the', 'yuen', 'long', 'district', 'council',...</td>\n",
              "      <td>['yuen', 'long', 'district', 'council', 'candi...</td>\n",
              "      <td>['yuen', 'long', 'district', 'council', 'candi...</td>\n",
              "      <td>['yuen', 'long', 'district', 'council', 'candi...</td>\n",
              "    </tr>\n",
              "    <tr>\n",
              "      <th>...</th>\n",
              "      <td>...</td>\n",
              "      <td>...</td>\n",
              "      <td>...</td>\n",
              "      <td>...</td>\n",
              "      <td>...</td>\n",
              "      <td>...</td>\n",
              "      <td>...</td>\n",
              "      <td>...</td>\n",
              "    </tr>\n",
              "    <tr>\n",
              "      <th>1995</th>\n",
              "      <td>1995</td>\n",
              "      <td>dilonkalel</td>\n",
              "      <td>Sometimes you gotta create what you want to be...</td>\n",
              "      <td>Sometimes you gotta create what you want to be...</td>\n",
              "      <td>['sometimes', 'you', 'gotta', 'create', 'what'...</td>\n",
              "      <td>['sometimes', 'gotta', 'create', 'want', 'part...</td>\n",
              "      <td>['sometim', 'gotta', 'creat', 'want', 'part', ...</td>\n",
              "      <td>['sometimes', 'gotta', 'create', 'want', 'part...</td>\n",
              "    </tr>\n",
              "    <tr>\n",
              "      <th>1996</th>\n",
              "      <td>1996</td>\n",
              "      <td>Hellowo77704373</td>\n",
              "      <td>@SolomonYue Thank you for your continuous atte...</td>\n",
              "      <td>ATUSER Thank you for your continuous attention...</td>\n",
              "      <td>['atuser', 'thank', 'you', 'for', 'your', 'con...</td>\n",
              "      <td>['thank', 'continuous', 'attention', 'hongkong...</td>\n",
              "      <td>['thank', 'continu', 'attent', 'hongkong', 'st...</td>\n",
              "      <td>['thank', 'continuous', 'attention', 'hongkong...</td>\n",
              "    </tr>\n",
              "    <tr>\n",
              "      <th>1997</th>\n",
              "      <td>1997</td>\n",
              "      <td>itshughesy</td>\n",
              "      <td>You used to be #TheKing @KingJames - I don't t...</td>\n",
              "      <td>You used to be TheKing ATUSER  I dont think yo...</td>\n",
              "      <td>['you', 'used', 'to', 'be', 'theking', 'atuser...</td>\n",
              "      <td>['used', 'theking', 'dont', 'think', 'really',...</td>\n",
              "      <td>['use', 'theke', 'dont', 'think', 'realli', 'u...</td>\n",
              "      <td>['used', 'theking', 'dont', 'think', 'really',...</td>\n",
              "    </tr>\n",
              "    <tr>\n",
              "      <th>1998</th>\n",
              "      <td>1998</td>\n",
              "      <td>jameskim9898</td>\n",
              "      <td>@RudyDavid16 @JoshMcd38861645 @TSPARK12 @NBATV...</td>\n",
              "      <td>ATUSER ATUSER ATUSER ATUSER ATUSER Lmao you’re...</td>\n",
              "      <td>['atuser', 'atuser', 'atuser', 'atuser', 'atus...</td>\n",
              "      <td>['lmao', 'acting', 'lebron', 'job', 'protect',...</td>\n",
              "      <td>['lmao', 'act', 'lebron', 'job', 'protect', 'h...</td>\n",
              "      <td>['lmao', 'acting', 'lebron', 'job', 'protect',...</td>\n",
              "    </tr>\n",
              "    <tr>\n",
              "      <th>1999</th>\n",
              "      <td>1999</td>\n",
              "      <td>mhijazi</td>\n",
              "      <td>#Lebanon, may you have the drive and stamina o...</td>\n",
              "      <td>Lebanon may you have the drive and stamina of ...</td>\n",
              "      <td>['lebanon', 'may', 'you', 'have', 'the', 'driv...</td>\n",
              "      <td>['lebanon', 'may', 'drive', 'stamina', 'hongko...</td>\n",
              "      <td>['lebanon', 'may', 'drive', 'stamina', 'hongko...</td>\n",
              "      <td>['lebanon', 'may', 'drive', 'stamen', 'hongkon...</td>\n",
              "    </tr>\n",
              "  </tbody>\n",
              "</table>\n",
              "<p>2000 rows × 8 columns</p>\n",
              "</div>"
            ],
            "text/plain": [
              "      Unnamed: 0  ...                                   tweet_lemmatized\n",
              "0              0  ...  ['hongkong', 'police', 'arrested', 'people', '...\n",
              "1              1  ...  ['bbc', 'hongkong', 'heckler', 'dragged', 'new...\n",
              "2              2  ...  ['hongkong', 'police', 'issued', 'notice', 'ob...\n",
              "3              3  ...  ['temporary', 'relocation', 'gmb', 'stand', 's...\n",
              "4              4  ...  ['yuen', 'long', 'district', 'council', 'candi...\n",
              "...          ...  ...                                                ...\n",
              "1995        1995  ...  ['sometimes', 'gotta', 'create', 'want', 'part...\n",
              "1996        1996  ...  ['thank', 'continuous', 'attention', 'hongkong...\n",
              "1997        1997  ...  ['used', 'theking', 'dont', 'think', 'really',...\n",
              "1998        1998  ...  ['lmao', 'acting', 'lebron', 'job', 'protect',...\n",
              "1999        1999  ...  ['lebanon', 'may', 'drive', 'stamen', 'hongkon...\n",
              "\n",
              "[2000 rows x 8 columns]"
            ]
          },
          "metadata": {
            "tags": []
          },
          "execution_count": 20
        }
      ]
    },
    {
      "cell_type": "markdown",
      "metadata": {
        "id": "cKmiuuiJUvvM",
        "colab_type": "text"
      },
      "source": [
        "#Analyse des tweets"
      ]
    },
    {
      "cell_type": "markdown",
      "metadata": {
        "id": "hP7KNrrbURF7",
        "colab_type": "text"
      },
      "source": [
        "##Analyse de la répartition de provenance des tweets par pays"
      ]
    },
    {
      "cell_type": "markdown",
      "metadata": {
        "id": "83WYOjGEX80A",
        "colab_type": "text"
      },
      "source": [
        "On importe un jeu de données ou le batch a été fait sur un dataset avec des tweets de toutes les langues :"
      ]
    },
    {
      "cell_type": "code",
      "metadata": {
        "id": "5mA1zkEb-UgD",
        "colab_type": "code",
        "outputId": "acd92d85-2baf-4c2b-bfa3-1a4c9d818a0f",
        "colab": {
          "base_uri": "https://localhost:8080/",
          "height": 521
        }
      },
      "source": [
        "data_all_languages = pd.read_csv('/content/gdrive/Shared drives/PFE_ING3_ESTIA/data/raw_data/hongkong/df_tweets_18-10-2019__02:23:32.csv')\n",
        "\n",
        "data_all_languages.language.value_counts().plot(kind = 'barh', figsize = (15,8))"
      ],
      "execution_count": 18,
      "outputs": [
        {
          "output_type": "execute_result",
          "data": {
            "text/plain": [
              "<matplotlib.axes._subplots.AxesSubplot at 0x7fe3460a8588>"
            ]
          },
          "metadata": {
            "tags": []
          },
          "execution_count": 18
        },
        {
          "output_type": "display_data",
          "data": {
            "image/png": "[encoded data removed]",
            "text/plain": [
              "<Figure size 1080x576 with 1 Axes>"
            ]
          },
          "metadata": {
            "tags": []
          }
        }
      ]
    },
    {
      "cell_type": "markdown",
      "metadata": {
        "id": "BDpaS4QzV158",
        "colab_type": "text"
      },
      "source": [
        "## Wordcloud"
      ]
    },
    {
      "cell_type": "markdown",
      "metadata": {
        "id": "mkPJHQBjYHJm",
        "colab_type": "text"
      },
      "source": [
        "Créons un wordcloud à partir de nos données."
      ]
    },
    {
      "cell_type": "code",
      "metadata": {
        "id": "h5kOZkuBV70n",
        "colab_type": "code",
        "colab": {
          "base_uri": "https://localhost:8080/",
          "height": 248
        },
        "outputId": "f9983340-b97f-45f4-8601-ab2b11af26a6"
      },
      "source": [
        "\n",
        "\n",
        "# join tweets to a single string\n",
        "words = ' '.join(data['tweet content'])\n",
        "\n",
        "# remove URLs, RTs, and twitter handles\n",
        "no_urls_no_tags = \" \".join([word for word in words.split()\n",
        "                            if 'http' not in word\n",
        "                                and not word.startswith('@')\n",
        "                                and word != 'RT'\n",
        "                            ])\n",
        "\n",
        "wordcloud = WordCloud(\n",
        "                      stopwords=STOPWORDS,\n",
        "                      background_color='black',\n",
        "                      width=1920,\n",
        "                      height=1280\n",
        "                     ).generate(no_urls_no_tags)\n",
        "\n",
        "plt.imshow(wordcloud)\n",
        "plt.axis('off')\n",
        "#plt.savefig('wordcloud', dpi=300)\n",
        "plt.show()"
      ],
      "execution_count": 45,
      "outputs": [
        {
          "output_type": "display_data",
          "data": {
            "image/png": "[encoded data removed]",
            "text/plain": [
              "<Figure size 432x288 with 1 Axes>"
            ]
          },
          "metadata": {
            "tags": []
          }
        }
      ]
    },
    {
      "cell_type": "code",
      "metadata": {
        "id": "_6OknQwYV7rA",
        "colab_type": "code",
        "colab": {}
      },
      "source": [
        ""
      ],
      "execution_count": 0,
      "outputs": []
    },
    {
      "cell_type": "code",
      "metadata": {
        "id": "149U3NypV7dO",
        "colab_type": "code",
        "colab": {}
      },
      "source": [
        ""
      ],
      "execution_count": 0,
      "outputs": []
    },
    {
      "cell_type": "markdown",
      "metadata": {
        "id": "2EPI3qpzOX2r",
        "colab_type": "text"
      },
      "source": [
        "##Analyse de sentiments (positivité vs négativité)"
      ]
    },
    {
      "cell_type": "markdown",
      "metadata": {
        "id": "ucV0oz9PUeFj",
        "colab_type": "text"
      },
      "source": [
        ""
      ]
    },
    {
      "cell_type": "code",
      "metadata": {
        "id": "hBqewO3IV1jL",
        "colab_type": "code",
        "colab": {}
      },
      "source": [
        ""
      ],
      "execution_count": 0,
      "outputs": []
    },
    {
      "cell_type": "code",
      "metadata": {
        "id": "SkyQrgZ8UcED",
        "colab_type": "code",
        "colab": {}
      },
      "source": [
        ""
      ],
      "execution_count": 0,
      "outputs": []
    },
    {
      "cell_type": "code",
      "metadata": {
        "id": "eRhQBCUpBh8Q",
        "colab_type": "code",
        "colab": {}
      },
      "source": [
        ""
      ],
      "execution_count": 0,
      "outputs": []
    }
  ]
}